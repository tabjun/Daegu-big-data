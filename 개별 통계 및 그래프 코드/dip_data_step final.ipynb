{
 "cells": [
  {
   "cell_type": "markdown",
   "metadata": {},
   "source": [
    "#### packages"
   ]
  },
  {
   "cell_type": "code",
   "execution_count": 2,
   "metadata": {},
   "outputs": [],
   "source": [
    "import pandas as pd\n",
    "import numpy as np\n",
    "import statsmodels.api as sm\n",
    "import sklearn\n",
    "import scipy"
   ]
  },
  {
   "cell_type": "markdown",
   "metadata": {},
   "source": [
    "##### Data"
   ]
  },
  {
   "cell_type": "code",
   "execution_count": 3,
   "metadata": {},
   "outputs": [
    {
     "data": {
      "text/plain": [
       "d147               488\n",
       "d148               488\n",
       "f073                 0\n",
       "f074               234\n",
       "h001                 0\n",
       "                  ... \n",
       "commuting_time    4525\n",
       "industryG           65\n",
       "sati                 0\n",
       "satiG                0\n",
       "insurance            0\n",
       "Length: 66, dtype: int64"
      ]
     },
     "execution_count": 3,
     "metadata": {},
     "output_type": "execute_result"
    }
   ],
   "source": [
    "df = pd.read_csv('data_1.csv')\n",
    "df.isnull().sum()[50:]"
   ]
  },
  {
   "cell_type": "code",
   "execution_count": 4,
   "metadata": {},
   "outputs": [],
   "source": [
    "df_copy = df.copy()"
   ]
  },
  {
   "cell_type": "code",
   "execution_count": 5,
   "metadata": {},
   "outputs": [],
   "source": [
    "df_copy.area.replace(1, '서울', inplace=True)\n",
    "df_copy.area.replace(2, '부산', inplace=True)\n",
    "df_copy.area.replace(3, '대구', inplace=True)\n",
    "df_copy.area.replace(4, '대전', inplace=True)\n",
    "df_copy.area.replace(5, '인천', inplace=True)\n",
    "df_copy.area.replace(6, '광주', inplace=True)\n",
    "df_copy.area.replace(7, '울산', inplace=True)\n",
    "df_copy.area.replace(8, '경기', inplace=True)\n",
    "df_copy.area.replace(9, '강원', inplace=True)\n",
    "df_copy.area.replace(10, '충북', inplace=True)\n",
    "df_copy.area.replace(11, '충남', inplace=True)\n",
    "df_copy.area.replace(12, '전북', inplace=True)\n",
    "df_copy.area.replace(13, '전남', inplace=True)\n",
    "df_copy.area.replace(14, '경북', inplace=True)\n",
    "df_copy.area.replace(15, '경남', inplace=True)\n",
    "df_copy.area.replace(16, '제주', inplace=True)\n",
    "df_copy.area.replace(17, '세종', inplace=True)"
   ]
  },
  {
   "cell_type": "code",
   "execution_count": 6,
   "metadata": {},
   "outputs": [
    {
     "name": "stdout",
     "output_type": "stream",
     "text": [
      "서울\n",
      "변환 전:1015\n",
      "변환 후:1015\n",
      "=============================================================================================================================\n",
      "부산\n",
      "변환 전:465\n",
      "변환 후:465\n",
      "=============================================================================================================================\n",
      "대구\n",
      "변환 전:247\n",
      "변환 후:247\n",
      "=============================================================================================================================\n",
      "대전\n",
      "변환 전:228\n",
      "변환 후:228\n",
      "=============================================================================================================================\n",
      "인천\n",
      "변환 전:142\n",
      "변환 후:142\n",
      "=============================================================================================================================\n",
      "광주\n",
      "변환 전:196\n",
      "변환 후:196\n",
      "=============================================================================================================================\n",
      "울산\n",
      "변환 전:49\n",
      "변환 후:49\n",
      "=============================================================================================================================\n",
      "경기\n",
      "변환 전:819\n",
      "변환 후:819\n",
      "=============================================================================================================================\n",
      "강원\n",
      "변환 전:197\n",
      "변환 후:197\n",
      "=============================================================================================================================\n",
      "충북\n",
      "변환 전:229\n",
      "변환 후:229\n",
      "=============================================================================================================================\n",
      "충남\n",
      "변환 전:349\n",
      "변환 후:349\n",
      "=============================================================================================================================\n",
      "전북\n",
      "변환 전:232\n",
      "변환 후:232\n",
      "=============================================================================================================================\n",
      "전남\n",
      "변환 전:118\n",
      "변환 후:118\n",
      "=============================================================================================================================\n",
      "경북\n",
      "변환 전:410\n",
      "변환 후:410\n",
      "=============================================================================================================================\n",
      "경남\n",
      "변환 전:235\n",
      "변환 후:235\n",
      "=============================================================================================================================\n",
      "제주\n",
      "변환 전:55\n",
      "변환 후:55\n",
      "=============================================================================================================================\n",
      "세종\n",
      "변환 전:31\n",
      "변환 후:31\n"
     ]
    }
   ],
   "source": [
    "##### 값 변환 비교\n",
    "\n",
    "print(f'''서울\n",
    "변환 전:{len(df[df['area']==1])}\n",
    "변환 후:{len(df_copy[df_copy['area']=='서울'])}''')\n",
    "print('========================='*5)\n",
    "print(f'''부산\n",
    "변환 전:{len(df[df['area']==2])}\n",
    "변환 후:{len(df_copy[df_copy['area']=='부산'])}''')\n",
    "print('========================='*5)\n",
    "print(f'''대구\n",
    "변환 전:{len(df[df['area']==3])}\n",
    "변환 후:{len(df_copy[df_copy['area']=='대구'])}''')\n",
    "print('========================='*5)\n",
    "print(f'''대전\n",
    "변환 전:{len(df[df['area']==4])}\n",
    "변환 후:{len(df_copy[df_copy['area']=='대전'])}''')\n",
    "print('========================='*5)\n",
    "print(f'''인천\n",
    "변환 전:{len(df[df['area']==5])}\n",
    "변환 후:{len(df_copy[df_copy['area']=='인천'])}''')\n",
    "print('========================='*5)\n",
    "print(f'''광주\n",
    "변환 전:{len(df[df['area']==6])}\n",
    "변환 후:{len(df_copy[df_copy['area']=='광주'])}''')\n",
    "print('========================='*5)\n",
    "print(f'''울산\n",
    "변환 전:{len(df[df['area']==7])}\n",
    "변환 후:{len(df_copy[df_copy['area']=='울산'])}''')\n",
    "print('========================='*5)\n",
    "print(f'''경기\n",
    "변환 전:{len(df[df['area']==8])}\n",
    "변환 후:{len(df_copy[df_copy['area']=='경기'])}''')\n",
    "print('========================='*5)\n",
    "print(f'''강원\n",
    "변환 전:{len(df[df['area']==9])}\n",
    "변환 후:{len(df_copy[df_copy['area']=='강원'])}''')\n",
    "print('========================='*5)\n",
    "print(f'''충북\n",
    "변환 전:{len(df[df['area']==10])}\n",
    "변환 후:{len(df_copy[df_copy['area']=='충북'])}''')\n",
    "print('========================='*5)\n",
    "print(f'''충남\n",
    "변환 전:{len(df[df['area']==11])}\n",
    "변환 후:{len(df_copy[df_copy['area']=='충남'])}''')\n",
    "print('========================='*5)\n",
    "print(f'''전북\n",
    "변환 전:{len(df[df['area']==12])}\n",
    "변환 후:{len(df_copy[df_copy['area']=='전북'])}''')\n",
    "print('========================='*5)\n",
    "print(f'''전남\n",
    "변환 전:{len(df[df['area']==13])}\n",
    "변환 후:{len(df_copy[df_copy['area']=='전남'])}''')\n",
    "print('========================='*5)\n",
    "print(f'''경북\n",
    "변환 전:{len(df[df['area']==14])}\n",
    "변환 후:{len(df_copy[df_copy['area']=='경북'])}''')\n",
    "print('========================='*5)\n",
    "print(f'''경남\n",
    "변환 전:{len(df[df['area']==15])}\n",
    "변환 후:{len(df_copy[df_copy['area']=='경남'])}''')\n",
    "print('========================='*5)\n",
    "print(f'''제주\n",
    "변환 전:{len(df[df['area']==16])}\n",
    "변환 후:{len(df_copy[df_copy['area']=='제주'])}''')\n",
    "print('========================='*5)\n",
    "print(f'''세종\n",
    "변환 전:{len(df[df['area']==17])}\n",
    "변환 후:{len(df_copy[df_copy['area']=='세종'])}''')\n"
   ]
  },
  {
   "cell_type": "code",
   "execution_count": 7,
   "metadata": {},
   "outputs": [
    {
     "name": "stdout",
     "output_type": "stream",
     "text": [
      "변경 전 sex unique 및 counts\n",
      "sex\n",
      "1    2248\n",
      "2    2769\n",
      "Name: count, dtype: int64\n",
      "\n",
      "\n",
      "변경 후 sex unique 및 counts\n",
      "성별\n",
      "여자    2769\n",
      "남자    2248\n",
      "Name: count, dtype: int64\n"
     ]
    }
   ],
   "source": [
    "df_copy['나이'] = df_copy['age']\n",
    "df_copy['학점'] = df_copy['score']\n",
    "\n",
    "# 성별 한글 변경\n",
    "df_copy['성별'] = df_copy['sex'].apply(lambda x: '남자' if x == 1 else '여자' if x==2 else x)\n",
    "print('변경 전 sex unique 및 counts')\n",
    "print(df_copy.sex.value_counts().sort_index())\n",
    "print('\\n')\n",
    "print('변경 후 sex unique 및 counts')\n",
    "print(df_copy.성별.value_counts())"
   ]
  },
  {
   "cell_type": "code",
   "execution_count": 8,
   "metadata": {},
   "outputs": [
    {
     "name": "stdout",
     "output_type": "stream",
     "text": [
      "변경 전 q001G unique 및 counts\n",
      "q001G\n",
      "1     647\n",
      "2    1408\n",
      "3    2962\n",
      "Name: count, dtype: int64\n",
      "\n",
      "\n",
      "변경 후 건강상태 unique 및 counts\n",
      "건강상태\n",
      "건강하다      2962\n",
      "보통이다      1408\n",
      "건강하지않다     647\n",
      "Name: count, dtype: int64\n"
     ]
    }
   ],
   "source": [
    "# 건강상태 한글 변경\n",
    "df_copy['건강상태'] = df_copy['q001G'].apply(lambda x: '건강하지않다' if x == 1 else '보통이다' if x==2 else '건강하다' if x==3 else x)\n",
    "print('변경 전 q001G unique 및 counts')\n",
    "print(df_copy.q001G.value_counts().sort_index())\n",
    "print('\\n')\n",
    "print('변경 후 건강상태 unique 및 counts')\n",
    "print(df_copy.건강상태.value_counts())"
   ]
  },
  {
   "cell_type": "code",
   "execution_count": 9,
   "metadata": {},
   "outputs": [
    {
     "name": "stdout",
     "output_type": "stream",
     "text": [
      "변경 전 p001G unique 및 counts\n",
      "p001G\n",
      "1    4869\n",
      "2     148\n",
      "Name: count, dtype: int64\n",
      "\n",
      "\n",
      "변경 후 결혼상태 unique 및 counts\n",
      "결혼상태\n",
      "미혼    4869\n",
      "기혼     148\n",
      "Name: count, dtype: int64\n"
     ]
    }
   ],
   "source": [
    "# 결혼상태 한글 변경\n",
    "df_copy['결혼상태'] = df_copy['p001G'].apply(lambda x: '미혼' if x == 1 else '기혼' if x==2 else x)\n",
    "print('변경 전 p001G unique 및 counts')\n",
    "print(df_copy.p001G.value_counts().sort_index())\n",
    "print('\\n')\n",
    "print('변경 후 결혼상태 unique 및 counts')\n",
    "print(df_copy.결혼상태.value_counts())"
   ]
  },
  {
   "cell_type": "code",
   "execution_count": 10,
   "metadata": {},
   "outputs": [
    {
     "name": "stdout",
     "output_type": "stream",
     "text": [
      "변경 전 provinceG unique 및 counts\n",
      "provinceG\n",
      "1    2173\n",
      "2    2844\n",
      "Name: count, dtype: int64\n",
      "\n",
      "\n",
      "변경 후 대학지역 unique 및 counts\n",
      "대학지역\n",
      "비수도권    2844\n",
      "수도권     2173\n",
      "Name: count, dtype: int64\n"
     ]
    }
   ],
   "source": [
    "# 대학지역 한글 변경\n",
    "df_copy['대학지역'] = df_copy['provinceG'].apply(lambda x: '수도권' if x == 1 else '비수도권' if x==2 else x)\n",
    "print('변경 전 provinceG unique 및 counts')\n",
    "print(df_copy.provinceG.value_counts().sort_index())\n",
    "print('\\n')\n",
    "print('변경 후 대학지역 unique 및 counts')\n",
    "print(df_copy.대학지역.value_counts())"
   ]
  },
  {
   "cell_type": "code",
   "execution_count": 11,
   "metadata": {},
   "outputs": [
    {
     "name": "stdout",
     "output_type": "stream",
     "text": [
      "변경 전 major_sameG unique 및 counts\n",
      "major_sameG\n",
      "1    2231\n",
      "2    1267\n",
      "3    1519\n",
      "Name: count, dtype: int64\n",
      "\n",
      "\n",
      "변경 후 전공일치 unique 및 counts\n",
      "전공일치\n",
      "맞지않다    2231\n",
      "잘맞다     1519\n",
      "보통이다    1267\n",
      "Name: count, dtype: int64\n"
     ]
    }
   ],
   "source": [
    "# 전공일치 한글 변경\n",
    "df_copy['전공일치'] = df_copy['major_sameG'].apply(lambda x: '맞지않다' if x == 1 else '보통이다' if x==2 else '잘맞다' if x==3 else x)\n",
    "print('변경 전 major_sameG unique 및 counts')\n",
    "print(df_copy.major_sameG.value_counts().sort_index())\n",
    "print('\\n')\n",
    "print('변경 후 전공일치 unique 및 counts')\n",
    "print(df_copy.전공일치.value_counts())"
   ]
  },
  {
   "cell_type": "code",
   "execution_count": 12,
   "metadata": {},
   "outputs": [
    {
     "name": "stdout",
     "output_type": "stream",
     "text": [
      "변경 전 majorcatG unique 및 counts\n",
      "majorcatG\n",
      "1    2177\n",
      "2    2150\n",
      "3     690\n",
      "Name: count, dtype: int64\n",
      "\n",
      "\n",
      "변경 후 본전공 unique 및 counts\n",
      "본전공\n",
      "문과     2177\n",
      "이공계    2150\n",
      "예체능     690\n",
      "Name: count, dtype: int64\n"
     ]
    }
   ],
   "source": [
    "# 본전공 한글 변경\n",
    "df_copy['본전공'] = df_copy['majorcatG'].apply(lambda x: '문과' if x == 1 else '이공계' if x==2 else '예체능' if x==3 else x)\n",
    "print('변경 전 majorcatG unique 및 counts')\n",
    "print(df_copy.majorcatG.value_counts().sort_index())\n",
    "print('\\n')\n",
    "print('변경 후 본전공 unique 및 counts')\n",
    "print(df_copy.본전공.value_counts())"
   ]
  },
  {
   "cell_type": "code",
   "execution_count": 13,
   "metadata": {},
   "outputs": [
    {
     "name": "stdout",
     "output_type": "stream",
     "text": [
      "변경 전 h001 unique 및 counts\n",
      "h001\n",
      "1    2948\n",
      "2    2069\n",
      "Name: count, dtype: int64\n",
      "\n",
      "\n",
      "변경 후 재학중일자리경험 unique 및 counts\n",
      "재학중일자리경험\n",
      "있다    2948\n",
      "없다    2069\n",
      "Name: count, dtype: int64\n"
     ]
    }
   ],
   "source": [
    "# 전공일치 한글 변경\n",
    "df_copy['재학중일자리경험'] = df_copy['h001'].apply(lambda x: '있다' if x == 1 else '없다' if x==2 else x)\n",
    "print('변경 전 h001 unique 및 counts')\n",
    "print(df_copy.h001.value_counts().sort_index())\n",
    "print('\\n')\n",
    "print('변경 후 재학중일자리경험 unique 및 counts')\n",
    "print(df_copy.재학중일자리경험.value_counts())"
   ]
  },
  {
   "cell_type": "code",
   "execution_count": 14,
   "metadata": {},
   "outputs": [
    {
     "name": "stdout",
     "output_type": "stream",
     "text": [
      "변경 전 q015G unique 및 counts\n",
      "q015G\n",
      "1     813\n",
      "2     993\n",
      "3    3211\n",
      "Name: count, dtype: int64\n",
      "\n",
      "\n",
      "변경 후 삶의만족도_개인 unique 및 counts\n",
      "삶의만족도_개인\n",
      "그렇지않다    3211\n",
      "보통이다      993\n",
      "그렇다       813\n",
      "Name: count, dtype: int64\n"
     ]
    }
   ],
   "source": [
    "# 삶의만족도 한글 변경\n",
    "df_copy['삶의만족도_개인'] = df_copy['q015G'].apply(lambda x: '그렇다' if x == 1 else '보통이다' if x==2 else '그렇지않다' if x==3 else x)\n",
    "print('변경 전 q015G unique 및 counts')\n",
    "print(df_copy.q015G.value_counts().sort_index())\n",
    "print('\\n')\n",
    "print('변경 후 삶의만족도_개인 unique 및 counts')\n",
    "print(df_copy['삶의만족도_개인'].value_counts())"
   ]
  },
  {
   "cell_type": "code",
   "execution_count": 15,
   "metadata": {},
   "outputs": [
    {
     "name": "stdout",
     "output_type": "stream",
     "text": [
      "변경 전 q016G unique 및 counts\n",
      "q016G\n",
      "1     545\n",
      "2     964\n",
      "3    3508\n",
      "Name: count, dtype: int64\n",
      "\n",
      "\n",
      "변경 후 삶의만족도_관계 unique 및 counts\n",
      "삶의만족도_관계\n",
      "그렇지않다    3508\n",
      "보통이다      964\n",
      "그렇다       545\n",
      "Name: count, dtype: int64\n"
     ]
    }
   ],
   "source": [
    "# 삶의만족도 한글 변경\n",
    "df_copy['삶의만족도_관계'] = df_copy['q016G'].apply(lambda x: '그렇다' if x == 1 else '보통이다' if x==2 else '그렇지않다' if x==3 else x)\n",
    "print('변경 전 q016G unique 및 counts')\n",
    "print(df_copy.q016G.value_counts().sort_index())\n",
    "print('\\n')\n",
    "print('변경 후 삶의만족도_관계 unique 및 counts')\n",
    "print(df_copy['삶의만족도_관계'].value_counts())"
   ]
  },
  {
   "cell_type": "code",
   "execution_count": 16,
   "metadata": {},
   "outputs": [
    {
     "name": "stdout",
     "output_type": "stream",
     "text": [
      "변경 전 q017G unique 및 counts\n",
      "q017G\n",
      "1     614\n",
      "2    1227\n",
      "3    3176\n",
      "Name: count, dtype: int64\n",
      "\n",
      "\n",
      "변경 후 삶의만족도_소속집단 unique 및 counts\n",
      "삶의만족도_소속집단\n",
      "그렇지않다    3176\n",
      "보통이다     1227\n",
      "그렇다       614\n",
      "Name: count, dtype: int64\n"
     ]
    }
   ],
   "source": [
    "# 삶의만족도 한글 변경\n",
    "df_copy['삶의만족도_소속집단'] = df_copy['q017G'].apply(lambda x: '그렇다' if x == 1 else '보통이다' if x==2 else '그렇지않다' if x==3 else x)\n",
    "print('변경 전 q017G unique 및 counts')\n",
    "print(df_copy.q017G.value_counts().sort_index())\n",
    "print('\\n')\n",
    "print('변경 후 삶의만족도_소속집단 unique 및 counts')\n",
    "print(df_copy['삶의만족도_소속집단'].value_counts())"
   ]
  },
  {
   "cell_type": "code",
   "execution_count": 17,
   "metadata": {},
   "outputs": [
    {
     "name": "stdout",
     "output_type": "stream",
     "text": [
      "변경 전 big_companyG unique 및 counts\n",
      "big_companyG\n",
      "1.0     648\n",
      "2.0    3134\n",
      "Name: count, dtype: int64\n",
      "\n",
      "\n",
      "변경 후 종사자수 unique 및 counts\n",
      "종사자수\n",
      "1000명미만    3134\n",
      "1000명이상     648\n",
      "Name: count, dtype: int64\n"
     ]
    }
   ],
   "source": [
    "# 종사자수 한글 변경\n",
    "df_copy['종사자수'] = df_copy['big_companyG'].apply(lambda x: '1000명이상' if x == 1 else '1000명미만' if x==2 else x)\n",
    "print('변경 전 big_companyG unique 및 counts')\n",
    "print(df_copy.big_companyG.value_counts().sort_index())\n",
    "print('\\n')\n",
    "print('변경 후 종사자수 unique 및 counts')\n",
    "print(df_copy['종사자수'].value_counts())"
   ]
  },
  {
   "cell_type": "code",
   "execution_count": 18,
   "metadata": {},
   "outputs": [
    {
     "name": "stdout",
     "output_type": "stream",
     "text": [
      "변경 전 work_satiG unique 및 counts\n",
      "work_satiG\n",
      "1     953\n",
      "2    1916\n",
      "3    2148\n",
      "Name: count, dtype: int64\n",
      "\n",
      "\n",
      "변경 후 업무만족도 unique 및 counts\n",
      "업무만족도\n",
      "그렇지않다    2148\n",
      "보통이다     1916\n",
      "그렇다       953\n",
      "Name: count, dtype: int64\n"
     ]
    }
   ],
   "source": [
    "# 업무만족도 한글 변경\n",
    "df_copy['업무만족도'] = df_copy['work_satiG'].apply(lambda x: '그렇다' if x == 1 else '보통이다' if x==2 else '그렇지않다' if x==3 else x)\n",
    "print('변경 전 work_satiG unique 및 counts')\n",
    "print(df_copy.work_satiG.value_counts().sort_index())\n",
    "print('\\n')\n",
    "print('변경 후 업무만족도 unique 및 counts')\n",
    "print(df_copy['업무만족도'].value_counts())"
   ]
  },
  {
   "cell_type": "code",
   "execution_count": 19,
   "metadata": {},
   "outputs": [
    {
     "name": "stdout",
     "output_type": "stream",
     "text": [
      "4526\n",
      "4525\n"
     ]
    }
   ],
   "source": [
    "print(df_copy.a016.isnull().sum())\n",
    "print(df_copy.commuting_time.isnull().sum())"
   ]
  },
  {
   "cell_type": "code",
   "execution_count": 20,
   "metadata": {},
   "outputs": [
    {
     "name": "stdout",
     "output_type": "stream",
     "text": [
      "변경 전 a016 unique 및 counts\n",
      "a016\n",
      "1.0      74\n",
      "2.0     225\n",
      "3.0      79\n",
      "4.0      25\n",
      "5.0       7\n",
      "6.0      67\n",
      "8.0       4\n",
      "9.0       3\n",
      "10.0      7\n",
      "Name: count, dtype: int64\n",
      "\n",
      "\n",
      "변경 후 교통수단 unique 및 counts\n",
      "교통수단\n",
      "승용차        225\n",
      "시내버스        79\n",
      "도보          74\n",
      "전철/지하철      67\n",
      "통근버스        25\n",
      "기타           7\n",
      "고속/시외버스      7\n",
      "택시           4\n",
      "자전거          3\n",
      "Name: count, dtype: int64\n"
     ]
    }
   ],
   "source": [
    "# 교통수단 한글 변경\n",
    "df_copy['교통수단'] = df_copy['a016'].apply(lambda x: np.nan if x == -1 \n",
    "                                                  else '도보' if x==1 \n",
    "                                                  else '승용차' if x==2 \n",
    "                                                  else '시내버스' if x==3\n",
    "                                                  else '통근버스' if x==4\n",
    "                                                  else '고속/시외버스' if x==5\n",
    "                                                  else '전철/지하철' if x==6\n",
    "                                                  else '기차' if x==7\n",
    "                                                  else '택시' if x==8\n",
    "                                                  else '자전거' if x==9\n",
    "                                                  else '기타' if x==10 or x==11\n",
    "                                                  else x)\n",
    "print('변경 전 a016 unique 및 counts')\n",
    "print(df_copy.a016.value_counts().sort_index())\n",
    "print('\\n')\n",
    "print('변경 후 교통수단 unique 및 counts')\n",
    "print(df_copy['교통수단'].value_counts())"
   ]
  },
  {
   "cell_type": "code",
   "execution_count": 21,
   "metadata": {},
   "outputs": [],
   "source": [
    "df_copy['출퇴근시간'] = df_copy['commuting_time'].copy()"
   ]
  },
  {
   "cell_type": "code",
   "execution_count": 22,
   "metadata": {},
   "outputs": [
    {
     "data": {
      "text/html": [
       "<div>\n",
       "<style scoped>\n",
       "    .dataframe tbody tr th:only-of-type {\n",
       "        vertical-align: middle;\n",
       "    }\n",
       "\n",
       "    .dataframe tbody tr th {\n",
       "        vertical-align: top;\n",
       "    }\n",
       "\n",
       "    .dataframe thead th {\n",
       "        text-align: right;\n",
       "    }\n",
       "</style>\n",
       "<table border=\"1\" class=\"dataframe\">\n",
       "  <thead>\n",
       "    <tr style=\"text-align: right;\">\n",
       "      <th></th>\n",
       "      <th>출퇴근시간</th>\n",
       "      <th>commuting_time</th>\n",
       "    </tr>\n",
       "  </thead>\n",
       "  <tbody>\n",
       "    <tr>\n",
       "      <th>0</th>\n",
       "      <td>NaN</td>\n",
       "      <td>NaN</td>\n",
       "    </tr>\n",
       "    <tr>\n",
       "      <th>1</th>\n",
       "      <td>NaN</td>\n",
       "      <td>NaN</td>\n",
       "    </tr>\n",
       "    <tr>\n",
       "      <th>2</th>\n",
       "      <td>NaN</td>\n",
       "      <td>NaN</td>\n",
       "    </tr>\n",
       "    <tr>\n",
       "      <th>3</th>\n",
       "      <td>NaN</td>\n",
       "      <td>NaN</td>\n",
       "    </tr>\n",
       "    <tr>\n",
       "      <th>4</th>\n",
       "      <td>NaN</td>\n",
       "      <td>NaN</td>\n",
       "    </tr>\n",
       "    <tr>\n",
       "      <th>...</th>\n",
       "      <td>...</td>\n",
       "      <td>...</td>\n",
       "    </tr>\n",
       "    <tr>\n",
       "      <th>5012</th>\n",
       "      <td>NaN</td>\n",
       "      <td>NaN</td>\n",
       "    </tr>\n",
       "    <tr>\n",
       "      <th>5013</th>\n",
       "      <td>NaN</td>\n",
       "      <td>NaN</td>\n",
       "    </tr>\n",
       "    <tr>\n",
       "      <th>5014</th>\n",
       "      <td>NaN</td>\n",
       "      <td>NaN</td>\n",
       "    </tr>\n",
       "    <tr>\n",
       "      <th>5015</th>\n",
       "      <td>5.0</td>\n",
       "      <td>5.0</td>\n",
       "    </tr>\n",
       "    <tr>\n",
       "      <th>5016</th>\n",
       "      <td>NaN</td>\n",
       "      <td>NaN</td>\n",
       "    </tr>\n",
       "  </tbody>\n",
       "</table>\n",
       "<p>5017 rows × 2 columns</p>\n",
       "</div>"
      ],
      "text/plain": [
       "      출퇴근시간  commuting_time\n",
       "0       NaN             NaN\n",
       "1       NaN             NaN\n",
       "2       NaN             NaN\n",
       "3       NaN             NaN\n",
       "4       NaN             NaN\n",
       "...     ...             ...\n",
       "5012    NaN             NaN\n",
       "5013    NaN             NaN\n",
       "5014    NaN             NaN\n",
       "5015    5.0             5.0\n",
       "5016    NaN             NaN\n",
       "\n",
       "[5017 rows x 2 columns]"
      ]
     },
     "execution_count": 22,
     "metadata": {},
     "output_type": "execute_result"
    }
   ],
   "source": [
    "df_copy[['출퇴근시간','commuting_time']]"
   ]
  },
  {
   "cell_type": "code",
   "execution_count": 23,
   "metadata": {},
   "outputs": [
    {
     "data": {
      "text/plain": [
       "[1.0,\n",
       " 2.0,\n",
       " 3.0,\n",
       " 4.0,\n",
       " 5.0,\n",
       " 6.0,\n",
       " 7.0,\n",
       " 8.0,\n",
       " 9.0,\n",
       " 10.0,\n",
       " 11.0,\n",
       " 12.0,\n",
       " 13.0,\n",
       " 14.0,\n",
       " 15.0,\n",
       " 16.0,\n",
       " nan,\n",
       " 17.0]"
      ]
     },
     "execution_count": 23,
     "metadata": {},
     "output_type": "execute_result"
    }
   ],
   "source": [
    "sorted(df_copy.com_area.unique())"
   ]
  },
  {
   "cell_type": "code",
   "execution_count": 24,
   "metadata": {},
   "outputs": [],
   "source": [
    "df_copy['사업체지역'] = df_copy['com_area'].copy()"
   ]
  },
  {
   "cell_type": "code",
   "execution_count": 25,
   "metadata": {},
   "outputs": [],
   "source": [
    "df_copy.사업체지역.replace(1, '서울', inplace=True)\n",
    "df_copy.사업체지역.replace(2, '부산', inplace=True)\n",
    "df_copy.사업체지역.replace(3, '대구', inplace=True)\n",
    "df_copy.사업체지역.replace(4, '대전', inplace=True)\n",
    "df_copy.사업체지역.replace(5, '인천', inplace=True)\n",
    "df_copy.사업체지역.replace(6, '광주', inplace=True)\n",
    "df_copy.사업체지역.replace(7, '울산', inplace=True)\n",
    "df_copy.사업체지역.replace(8, '경기', inplace=True)\n",
    "df_copy.사업체지역.replace(9, '강원', inplace=True)\n",
    "df_copy.사업체지역.replace(10, '충북', inplace=True)\n",
    "df_copy.사업체지역.replace(11, '충남', inplace=True)\n",
    "df_copy.사업체지역.replace(12, '전북', inplace=True)\n",
    "df_copy.사업체지역.replace(13, '전남', inplace=True)\n",
    "df_copy.사업체지역.replace(14, '경북', inplace=True)\n",
    "df_copy.사업체지역.replace(15, '경남', inplace=True)\n",
    "df_copy.사업체지역.replace(16, '제주', inplace=True)\n",
    "df_copy.사업체지역.replace(17, '세종', inplace=True)"
   ]
  },
  {
   "cell_type": "code",
   "execution_count": 26,
   "metadata": {},
   "outputs": [
    {
     "data": {
      "text/plain": [
       "[1.0,\n",
       " 3.0,\n",
       " 4.0,\n",
       " 5.0,\n",
       " 6.0,\n",
       " 7.0,\n",
       " 8.0,\n",
       " 9.0,\n",
       " 10.0,\n",
       " 11.0,\n",
       " 12.0,\n",
       " 13.0,\n",
       " 14.0,\n",
       " 15.0,\n",
       " 16.0,\n",
       " 17.0,\n",
       " 18.0,\n",
       " 19.0,\n",
       " 21.0,\n",
       " nan]"
      ]
     },
     "execution_count": 26,
     "metadata": {},
     "output_type": "execute_result"
    }
   ],
   "source": [
    "sorted(df_copy['industry'].unique())"
   ]
  },
  {
   "cell_type": "markdown",
   "metadata": {},
   "source": [
    "![nn](aaa.png)"
   ]
  },
  {
   "cell_type": "code",
   "execution_count": 27,
   "metadata": {},
   "outputs": [
    {
     "name": "stdout",
     "output_type": "stream",
     "text": [
      "변경 전 industry unique 및 counts\n",
      "industry\n",
      "1.0       8\n",
      "3.0     605\n",
      "4.0      11\n",
      "5.0       5\n",
      "6.0     176\n",
      "7.0     583\n",
      "8.0     115\n",
      "9.0     636\n",
      "10.0    270\n",
      "11.0     87\n",
      "12.0     31\n",
      "13.0    421\n",
      "14.0    260\n",
      "15.0    203\n",
      "16.0    835\n",
      "17.0    340\n",
      "18.0    239\n",
      "19.0    124\n",
      "21.0      3\n",
      "Name: count, dtype: int64\n",
      "\n",
      "\n",
      "변경 후 산업체 unique 및 counts\n",
      "산업체\n",
      "교육서비스업                835\n",
      "숙박/음식점업               636\n",
      "제조업                   605\n",
      "도매/소매업                583\n",
      "전문과학및기술서비스업           421\n",
      "보건업/사회복지서비스업          340\n",
      "정보통신업                 270\n",
      "사업시설관리/사업지원및임대서비스업    260\n",
      "예술/스포츠/여가관련서비스업       239\n",
      "공공행정/국방사회보장행정         203\n",
      "건설업                   176\n",
      "협회/단체/수리/기타개인서비스업     124\n",
      "운수/창고업                115\n",
      "금융/보험업                 87\n",
      "부동산업                   31\n",
      "전기/가스/증기및공기조절공급업       11\n",
      "농업/임업/어업                8\n",
      "수도/하수/원료재생업             5\n",
      "국제/외부기관                 3\n",
      "Name: count, dtype: int64\n"
     ]
    }
   ],
   "source": [
    "# 산업체 한글 변경\n",
    "df_copy['산업체'] = df_copy['industry'].apply(lambda x: '무응답' if x == -1 \n",
    "                                                  else '농업/임업/어업' if x==1 \n",
    "                                                  else '광업' if x==2 \n",
    "                                                  else '제조업' if x==3\n",
    "                                                  else '전기/가스/증기및공기조절공급업' if x==4\n",
    "                                                  else '수도/하수/원료재생업' if x==5\n",
    "                                                  else '건설업' if x==6\n",
    "                                                  else '도매/소매업' if x==7\n",
    "                                                  else '운수/창고업' if x==8\n",
    "                                                  else '숙박/음식점업' if x==9\n",
    "                                                  else '정보통신업' if x==10\n",
    "                                                  else '금융/보험업' if x==11\n",
    "                                                  else '부동산업' if x==12\n",
    "                                                  else '전문과학및기술서비스업' if x==13\n",
    "                                                  else '사업시설관리/사업지원및임대서비스업' if x==14\n",
    "                                                  else '공공행정/국방사회보장행정' if x==15\n",
    "                                                  else '교육서비스업' if x==16\n",
    "                                                  else '보건업/사회복지서비스업' if x==17\n",
    "                                                  else '예술/스포츠/여가관련서비스업' if x==18\n",
    "                                                  else '협회/단체/수리/기타개인서비스업' if x==19\n",
    "                                                  else '자가소비생산활동' if x==20\n",
    "                                                  else '국제/외부기관' if x==21\n",
    "                                                  else x)\n",
    "print('변경 전 industry unique 및 counts')\n",
    "print(df_copy.industry.value_counts().sort_index())\n",
    "print('\\n')\n",
    "print('변경 후 산업체 unique 및 counts')\n",
    "print(df_copy['산업체'].value_counts())"
   ]
  },
  {
   "cell_type": "code",
   "execution_count": 28,
   "metadata": {},
   "outputs": [
    {
     "name": "stdout",
     "output_type": "stream",
     "text": [
      "변경 전 industry unique 및 counts\n",
      "industry\n",
      "1.0       8\n",
      "3.0     605\n",
      "4.0      11\n",
      "5.0       5\n",
      "6.0     176\n",
      "7.0     583\n",
      "8.0     115\n",
      "9.0     636\n",
      "10.0    270\n",
      "11.0     87\n",
      "12.0     31\n",
      "13.0    421\n",
      "14.0    260\n",
      "15.0    203\n",
      "16.0    835\n",
      "17.0    340\n",
      "18.0    239\n",
      "19.0    124\n",
      "21.0      3\n",
      "Name: count, dtype: int64\n",
      "\n",
      "\n",
      "변경 후 산업체분류 unique 및 counts\n",
      "산업체분류\n",
      "3차산업    4147\n",
      "2차산업     797\n",
      "1차산업       8\n",
      "Name: count, dtype: int64\n"
     ]
    }
   ],
   "source": [
    "# 산업체 한글 변경\n",
    "df_copy['산업체분류'] = df_copy['industry'].apply(lambda x: np.nan if x == -1 \n",
    "                                                  else '1차산업' if x==1 \n",
    "                                                  else '2차산업' if 2<= x <= 6\n",
    "                                                  else '3차산업' if 7 <= x <= 21\n",
    "                                                  else x)\n",
    "print('변경 전 industry unique 및 counts')\n",
    "print(df_copy.industry.value_counts().sort_index())\n",
    "print('\\n')\n",
    "print('변경 후 산업체분류 unique 및 counts')\n",
    "print(df_copy['산업체분류'].value_counts())"
   ]
  },
  {
   "cell_type": "code",
   "execution_count": 30,
   "metadata": {},
   "outputs": [],
   "source": [
    "df_copy['주당근로일'] = df_copy['work_day']\n",
    "df_copy['주당근로시간'] = df_copy['work_time']"
   ]
  },
  {
   "cell_type": "code",
   "execution_count": 31,
   "metadata": {},
   "outputs": [
    {
     "name": "stdout",
     "output_type": "stream",
     "text": [
      "변경 전 work_timeB unique 및 counts\n",
      "work_timeB\n",
      "0    4108\n",
      "1     909\n",
      "Name: count, dtype: int64\n",
      "\n",
      "\n",
      "변경 후 work_timeB unique 및 counts\n",
      "주당근로시간_binary\n",
      "40시간이하    4108\n",
      "40시간초과     909\n",
      "Name: count, dtype: int64\n"
     ]
    }
   ],
   "source": [
    "# 주당근로시간(binary) 한글 변경\n",
    "df_copy['주당근로시간_binary'] = df_copy['work_timeB'].apply(lambda x: '40시간이하' if x == 0 else '40시간초과' if x==1 else x)\n",
    "print('변경 전 work_timeB unique 및 counts')\n",
    "print(df_copy.work_timeB.value_counts().sort_index())\n",
    "print('\\n')\n",
    "print('변경 후 work_timeB unique 및 counts')\n",
    "print(df_copy.주당근로시간_binary.value_counts())"
   ]
  },
  {
   "cell_type": "code",
   "execution_count": 32,
   "metadata": {},
   "outputs": [
    {
     "name": "stdout",
     "output_type": "stream",
     "text": [
      "변경 전 supply unique 및 counts\n",
      "supply\n",
      "0    4120\n",
      "1     897\n",
      "Name: count, dtype: int64\n",
      "\n",
      "\n",
      "변경 후 supply unique 및 counts\n",
      "직장에서의복리후생제공여부\n",
      "제공하지않는다    4120\n",
      "제공한다        897\n",
      "Name: count, dtype: int64\n"
     ]
    }
   ],
   "source": [
    "# 직장에서의복리후생제공여부 한글 변경\n",
    "df_copy['직장에서의복리후생제공여부'] = df_copy['supply'].apply(lambda x: '제공하지않는다' if x == 0 else '제공한다' if x==1 else x)\n",
    "print('변경 전 supply unique 및 counts')\n",
    "print(df_copy.supply.value_counts().sort_index())\n",
    "print('\\n')\n",
    "print('변경 후 supply unique 및 counts')\n",
    "print(df_copy.직장에서의복리후생제공여부.value_counts())"
   ]
  },
  {
   "cell_type": "code",
   "execution_count": 33,
   "metadata": {},
   "outputs": [
    {
     "name": "stdout",
     "output_type": "stream",
     "text": [
      "변경 전 insurance unique 및 counts\n",
      "insurance\n",
      "0    2307\n",
      "1    2710\n",
      "Name: count, dtype: int64\n",
      "\n",
      "\n",
      "변경 후 보험가입여부 unique 및 counts\n",
      "보험가입여부\n",
      "가입했다      2710\n",
      "가입하지않음    2307\n",
      "Name: count, dtype: int64\n"
     ]
    }
   ],
   "source": [
    "# 보험가입여부 한글 변경\n",
    "df_copy['보험가입여부'] = df_copy['insurance'].apply(lambda x: '가입하지않음' if x == 0 else '가입했다' if x==1 else x)\n",
    "print('변경 전 insurance unique 및 counts')\n",
    "print(df_copy.insurance.value_counts().sort_index())\n",
    "print('\\n')\n",
    "print('변경 후 보험가입여부 unique 및 counts')\n",
    "print(df_copy.보험가입여부.value_counts())"
   ]
  },
  {
   "cell_type": "code",
   "execution_count": 34,
   "metadata": {},
   "outputs": [
    {
     "name": "stdout",
     "output_type": "stream",
     "text": [
      "변경 전 company_satiG unique 및 counts\n",
      "company_satiG\n",
      "1    1139\n",
      "2    1898\n",
      "3    1980\n",
      "Name: count, dtype: int64\n",
      "\n",
      "\n",
      "변경 후 직장만족도 unique 및 counts\n",
      "직장만족도\n",
      "그렇다      1980\n",
      "보통이다     1898\n",
      "그렇지않다    1139\n",
      "Name: count, dtype: int64\n"
     ]
    }
   ],
   "source": [
    "# 직장만족도 한글 변경\n",
    "df_copy['직장만족도'] = df_copy['company_satiG'].apply(lambda x: '그렇지않다' if x == 1 else '보통이다' if x==2 else '그렇다' if x==3 else x)\n",
    "print('변경 전 company_satiG unique 및 counts')\n",
    "print(df_copy.company_satiG.value_counts().sort_index())\n",
    "print('\\n')\n",
    "print('변경 후 직장만족도 unique 및 counts')\n",
    "print(df_copy.직장만족도.value_counts())"
   ]
  },
  {
   "cell_type": "code",
   "execution_count": 35,
   "metadata": {},
   "outputs": [],
   "source": [
    "df_copy.to_csv('re_0826.csv', index=False, encoding='cp949')"
   ]
  }
 ],
 "metadata": {
  "kernelspec": {
   "display_name": "'reg'",
   "language": "python",
   "name": "python3"
  },
  "language_info": {
   "codemirror_mode": {
    "name": "ipython",
    "version": 3
   },
   "file_extension": ".py",
   "mimetype": "text/x-python",
   "name": "python",
   "nbconvert_exporter": "python",
   "pygments_lexer": "ipython3",
   "version": "3.10.9"
  },
  "orig_nbformat": 4
 },
 "nbformat": 4,
 "nbformat_minor": 2
}
