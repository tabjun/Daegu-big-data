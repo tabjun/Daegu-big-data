{
 "cells": [
  {
   "cell_type": "markdown",
   "metadata": {},
   "source": [
    "#### packages"
   ]
  },
  {
   "cell_type": "code",
   "execution_count": 6,
   "metadata": {},
   "outputs": [],
   "source": [
    "import pandas as pd\n",
    "import numpy as np\n",
    "import statsmodels.api as sm\n",
    "import sklearn\n",
    "import scipy\n",
    "import matplotlib.pyplot as plt\n",
    "import forestplot as fp"
   ]
  },
  {
   "cell_type": "code",
   "execution_count": 7,
   "metadata": {},
   "outputs": [],
   "source": [
    "pd.options.display.float_format = '{:.5f}'.format"
   ]
  },
  {
   "cell_type": "code",
   "execution_count": 8,
   "metadata": {},
   "outputs": [],
   "source": [
    "from matplotlib import font_manager, rc\n",
    "font_path = \"C:/Windows/Fonts/NGULIM.TTF\"\n",
    "font = font_manager.FontProperties(fname=font_path).get_name()\n",
    "rc('font', family=font)"
   ]
  },
  {
   "cell_type": "markdown",
   "metadata": {},
   "source": [
    "##### Data"
   ]
  },
  {
   "cell_type": "code",
   "execution_count": 9,
   "metadata": {},
   "outputs": [
    {
     "data": {
      "text/plain": [
       "pid              0\n",
       "majorcat         0\n",
       "province         0\n",
       "area             0\n",
       "sex              0\n",
       "                ..\n",
       "주당근로시간           0\n",
       "주당근로시간_binary    0\n",
       "직장에서의복리후생제공여부    0\n",
       "보험가입여부           0\n",
       "직장만족도            0\n",
       "Length: 141, dtype: int64"
      ]
     },
     "execution_count": 9,
     "metadata": {},
     "output_type": "execute_result"
    }
   ],
   "source": [
    "df = pd.read_csv('re_0826.csv', encoding='cp949')\n",
    "df.isnull().sum()"
   ]
  },
  {
   "cell_type": "code",
   "execution_count": 10,
   "metadata": {},
   "outputs": [],
   "source": [
    "df_copy = df.copy()"
   ]
  },
  {
   "cell_type": "markdown",
   "metadata": {},
   "source": [
    "##### 수도권에 취업한 사람 중 비수도권 대학은 없음"
   ]
  },
  {
   "cell_type": "code",
   "execution_count": 11,
   "metadata": {},
   "outputs": [
    {
     "name": "stdout",
     "output_type": "stream",
     "text": [
      "Optimization terminated successfully.\n",
      "         Current function value: 0.363320\n",
      "         Iterations 6\n"
     ]
    },
    {
     "data": {
      "text/html": [
       "<table class=\"simpletable\">\n",
       "<caption>Logit Regression Results</caption>\n",
       "<tr>\n",
       "  <th>Dep. Variable:</th>       <td>LongWork2</td>    <th>  No. Observations:  </th>  <td>  2333</td>  \n",
       "</tr>\n",
       "<tr>\n",
       "  <th>Model:</th>                 <td>Logit</td>      <th>  Df Residuals:      </th>  <td>  2330</td>  \n",
       "</tr>\n",
       "<tr>\n",
       "  <th>Method:</th>                 <td>MLE</td>       <th>  Df Model:          </th>  <td>     2</td>  \n",
       "</tr>\n",
       "<tr>\n",
       "  <th>Date:</th>            <td>Thu, 31 Aug 2023</td> <th>  Pseudo R-squ.:     </th>  <td>0.02125</td> \n",
       "</tr>\n",
       "<tr>\n",
       "  <th>Time:</th>                <td>20:15:41</td>     <th>  Log-Likelihood:    </th> <td> -847.62</td> \n",
       "</tr>\n",
       "<tr>\n",
       "  <th>converged:</th>             <td>True</td>       <th>  LL-Null:           </th> <td> -866.03</td> \n",
       "</tr>\n",
       "<tr>\n",
       "  <th>Covariance Type:</th>     <td>nonrobust</td>    <th>  LLR p-value:       </th> <td>1.019e-08</td>\n",
       "</tr>\n",
       "</table>\n",
       "<table class=\"simpletable\">\n",
       "<tr>\n",
       "                         <td></td>                           <th>coef</th>     <th>std err</th>      <th>z</th>      <th>P>|z|</th>  <th>[0.025</th>    <th>0.975]</th>  \n",
       "</tr>\n",
       "<tr>\n",
       "  <th>Intercept</th>                                      <td>   -2.0843</td> <td>    0.099</td> <td>  -21.110</td> <td> 0.000</td> <td>   -2.278</td> <td>   -1.891</td>\n",
       "</tr>\n",
       "<tr>\n",
       "  <th>C(직장에서의복리후생제공여부, Treatment('제공하지않는다'))[T.제공한다]</th> <td>    0.9265</td> <td>    0.147</td> <td>    6.291</td> <td> 0.000</td> <td>    0.638</td> <td>    1.215</td>\n",
       "</tr>\n",
       "<tr>\n",
       "  <th>C(보험가입여부, Treatment('가입하지않음'))[T.가입했다]</th>         <td>   -0.1744</td> <td>    0.133</td> <td>   -1.307</td> <td> 0.191</td> <td>   -0.436</td> <td>    0.087</td>\n",
       "</tr>\n",
       "</table>"
      ],
      "text/latex": [
       "\\begin{center}\n",
       "\\begin{tabular}{lclc}\n",
       "\\toprule\n",
       "\\textbf{Dep. Variable:}                                 &    LongWork2     & \\textbf{  No. Observations:  } &     2333    \\\\\n",
       "\\textbf{Model:}                                         &      Logit       & \\textbf{  Df Residuals:      } &     2330    \\\\\n",
       "\\textbf{Method:}                                        &       MLE        & \\textbf{  Df Model:          } &        2    \\\\\n",
       "\\textbf{Date:}                                          & Thu, 31 Aug 2023 & \\textbf{  Pseudo R-squ.:     } &  0.02125    \\\\\n",
       "\\textbf{Time:}                                          &     20:15:41     & \\textbf{  Log-Likelihood:    } &   -847.62   \\\\\n",
       "\\textbf{converged:}                                     &       True       & \\textbf{  LL-Null:           } &   -866.03   \\\\\n",
       "\\textbf{Covariance Type:}                               &    nonrobust     & \\textbf{  LLR p-value:       } & 1.019e-08   \\\\\n",
       "\\bottomrule\n",
       "\\end{tabular}\n",
       "\\begin{tabular}{lcccccc}\n",
       "                                                        & \\textbf{coef} & \\textbf{std err} & \\textbf{z} & \\textbf{P$> |$z$|$} & \\textbf{[0.025} & \\textbf{0.975]}  \\\\\n",
       "\\midrule\n",
       "\\textbf{Intercept}                                      &      -2.0843  &        0.099     &   -21.110  &         0.000        &       -2.278    &       -1.891     \\\\\n",
       "\\textbf{C(직장에서의복리후생제공여부, Treatment('제공하지않는다'))[T.제공한다]} &       0.9265  &        0.147     &     6.291  &         0.000        &        0.638    &        1.215     \\\\\n",
       "\\textbf{C(보험가입여부, Treatment('가입하지않음'))[T.가입했다]}         &      -0.1744  &        0.133     &    -1.307  &         0.191        &       -0.436    &        0.087     \\\\\n",
       "\\bottomrule\n",
       "\\end{tabular}\n",
       "%\\caption{Logit Regression Results}\n",
       "\\end{center}"
      ],
      "text/plain": [
       "<class 'statsmodels.iolib.summary.Summary'>\n",
       "\"\"\"\n",
       "                           Logit Regression Results                           \n",
       "==============================================================================\n",
       "Dep. Variable:              LongWork2   No. Observations:                 2333\n",
       "Model:                          Logit   Df Residuals:                     2330\n",
       "Method:                           MLE   Df Model:                            2\n",
       "Date:                Thu, 31 Aug 2023   Pseudo R-squ.:                 0.02125\n",
       "Time:                        20:15:41   Log-Likelihood:                -847.62\n",
       "converged:                       True   LL-Null:                       -866.03\n",
       "Covariance Type:            nonrobust   LLR p-value:                 1.019e-08\n",
       "==================================================================================================================\n",
       "                                                     coef    std err          z      P>|z|      [0.025      0.975]\n",
       "------------------------------------------------------------------------------------------------------------------\n",
       "Intercept                                         -2.0843      0.099    -21.110      0.000      -2.278      -1.891\n",
       "C(직장에서의복리후생제공여부, Treatment('제공하지않는다'))[T.제공한다]     0.9265      0.147      6.291      0.000       0.638       1.215\n",
       "C(보험가입여부, Treatment('가입하지않음'))[T.가입했다]            -0.1744      0.133     -1.307      0.191      -0.436       0.087\n",
       "==================================================================================================================\n",
       "\"\"\""
      ]
     },
     "execution_count": 11,
     "metadata": {},
     "output_type": "execute_result"
    }
   ],
   "source": [
    "수도권 = df_copy[(df_copy['사업체지역']=='서울')|(df_copy['사업체지역']=='경기')].copy()\n",
    "\n",
    "model = sm.Logit.from_formula('''LongWork2 ~ C(직장에서의복리후생제공여부,Treatment('제공하지않는다'))\n",
    "    + C(보험가입여부,Treatment('가입하지않음'))''', 수도권).fit()\n",
    "model.summary()"
   ]
  },
  {
   "cell_type": "code",
   "execution_count": 11,
   "metadata": {},
   "outputs": [
    {
     "name": "stdout",
     "output_type": "stream",
     "text": [
      "모델 AIC:1558.47261991283\n",
      "\n",
      "\n"
     ]
    },
    {
     "data": {
      "text/html": [
       "<div>\n",
       "<style scoped>\n",
       "    .dataframe tbody tr th:only-of-type {\n",
       "        vertical-align: middle;\n",
       "    }\n",
       "\n",
       "    .dataframe tbody tr th {\n",
       "        vertical-align: top;\n",
       "    }\n",
       "\n",
       "    .dataframe thead th {\n",
       "        text-align: right;\n",
       "    }\n",
       "</style>\n",
       "<table border=\"1\" class=\"dataframe\">\n",
       "  <thead>\n",
       "    <tr style=\"text-align: right;\">\n",
       "      <th></th>\n",
       "      <th>OR</th>\n",
       "      <th>Lower CI</th>\n",
       "      <th>Upper CI</th>\n",
       "    </tr>\n",
       "  </thead>\n",
       "  <tbody>\n",
       "    <tr>\n",
       "      <th>Intercept</th>\n",
       "      <td>0.11531</td>\n",
       "      <td>0.09422</td>\n",
       "      <td>0.14112</td>\n",
       "    </tr>\n",
       "    <tr>\n",
       "      <th>C(직장에서의복리후생제공여부, Treatment('제공하지않는다'))[T.제공한다]</th>\n",
       "      <td>2.21665</td>\n",
       "      <td>1.62124</td>\n",
       "      <td>3.03071</td>\n",
       "    </tr>\n",
       "    <tr>\n",
       "      <th>C(보험가입여부, Treatment('가입하지않음'))[T.가입했다]</th>\n",
       "      <td>0.85467</td>\n",
       "      <td>0.64872</td>\n",
       "      <td>1.12601</td>\n",
       "    </tr>\n",
       "  </tbody>\n",
       "</table>\n",
       "</div>"
      ],
      "text/plain": [
       "                                                    OR  Lower CI  Upper CI\n",
       "Intercept                                      0.11531   0.09422   0.14112\n",
       "C(직장에서의복리후생제공여부, Treatment('제공하지않는다'))[T.제공한다] 2.21665   1.62124   3.03071\n",
       "C(보험가입여부, Treatment('가입하지않음'))[T.가입했다]         0.85467   0.64872   1.12601"
      ]
     },
     "execution_count": 11,
     "metadata": {},
     "output_type": "execute_result"
    }
   ],
   "source": [
    "print(f'모델 AIC:{model.aic}')\n",
    "print('\\n')\n",
    "\n",
    "# 오즈비 계산(Confidence interval 포함)\n",
    "odds_ratios = pd.DataFrame(\n",
    "    {\n",
    "        \"OR\": model.params,\n",
    "        \"Lower CI\": model.conf_int()[0],\n",
    "        \"Upper CI\": model.conf_int()[1],\n",
    "    }\n",
    ")\n",
    "odds_ratios = np.exp(odds_ratios)\n",
    "odds_ratios"
   ]
  },
  {
   "cell_type": "code",
   "execution_count": 12,
   "metadata": {},
   "outputs": [
    {
     "name": "stdout",
     "output_type": "stream",
     "text": [
      "Optimization terminated successfully.\n",
      "         Current function value: 0.361594\n",
      "         Iterations 6\n"
     ]
    },
    {
     "data": {
      "text/html": [
       "<table class=\"simpletable\">\n",
       "<caption>Logit Regression Results</caption>\n",
       "<tr>\n",
       "  <th>Dep. Variable:</th>       <td>LongWork2</td>    <th>  No. Observations:  </th>  <td>  2333</td>  \n",
       "</tr>\n",
       "<tr>\n",
       "  <th>Model:</th>                 <td>Logit</td>      <th>  Df Residuals:      </th>  <td>  2329</td>  \n",
       "</tr>\n",
       "<tr>\n",
       "  <th>Method:</th>                 <td>MLE</td>       <th>  Df Model:          </th>  <td>     3</td>  \n",
       "</tr>\n",
       "<tr>\n",
       "  <th>Date:</th>            <td>Thu, 31 Aug 2023</td> <th>  Pseudo R-squ.:     </th>  <td>0.02590</td> \n",
       "</tr>\n",
       "<tr>\n",
       "  <th>Time:</th>                <td>20:17:20</td>     <th>  Log-Likelihood:    </th> <td> -843.60</td> \n",
       "</tr>\n",
       "<tr>\n",
       "  <th>converged:</th>             <td>True</td>       <th>  LL-Null:           </th> <td> -866.03</td> \n",
       "</tr>\n",
       "<tr>\n",
       "  <th>Covariance Type:</th>     <td>nonrobust</td>    <th>  LLR p-value:       </th> <td>9.924e-10</td>\n",
       "</tr>\n",
       "</table>\n",
       "<table class=\"simpletable\">\n",
       "<tr>\n",
       "                         <td></td>                           <th>coef</th>     <th>std err</th>      <th>z</th>      <th>P>|z|</th>  <th>[0.025</th>    <th>0.975]</th>  \n",
       "</tr>\n",
       "<tr>\n",
       "  <th>Intercept</th>                                      <td>   -1.6527</td> <td>    0.175</td> <td>   -9.443</td> <td> 0.000</td> <td>   -1.996</td> <td>   -1.310</td>\n",
       "</tr>\n",
       "<tr>\n",
       "  <th>C(직장에서의복리후생제공여부, Treatment('제공하지않는다'))[T.제공한다]</th> <td>    0.9824</td> <td>    0.150</td> <td>    6.553</td> <td> 0.000</td> <td>    0.689</td> <td>    1.276</td>\n",
       "</tr>\n",
       "<tr>\n",
       "  <th>C(보험가입여부, Treatment('가입하지않음'))[T.가입했다]</th>         <td>   -0.0260</td> <td>    0.146</td> <td>   -0.179</td> <td> 0.858</td> <td>   -0.311</td> <td>    0.259</td>\n",
       "</tr>\n",
       "<tr>\n",
       "  <th>주당근로시간</th>                                         <td>   -0.0155</td> <td>    0.005</td> <td>   -2.847</td> <td> 0.004</td> <td>   -0.026</td> <td>   -0.005</td>\n",
       "</tr>\n",
       "</table>"
      ],
      "text/latex": [
       "\\begin{center}\n",
       "\\begin{tabular}{lclc}\n",
       "\\toprule\n",
       "\\textbf{Dep. Variable:}                                 &    LongWork2     & \\textbf{  No. Observations:  } &     2333    \\\\\n",
       "\\textbf{Model:}                                         &      Logit       & \\textbf{  Df Residuals:      } &     2329    \\\\\n",
       "\\textbf{Method:}                                        &       MLE        & \\textbf{  Df Model:          } &        3    \\\\\n",
       "\\textbf{Date:}                                          & Thu, 31 Aug 2023 & \\textbf{  Pseudo R-squ.:     } &  0.02590    \\\\\n",
       "\\textbf{Time:}                                          &     20:17:20     & \\textbf{  Log-Likelihood:    } &   -843.60   \\\\\n",
       "\\textbf{converged:}                                     &       True       & \\textbf{  LL-Null:           } &   -866.03   \\\\\n",
       "\\textbf{Covariance Type:}                               &    nonrobust     & \\textbf{  LLR p-value:       } & 9.924e-10   \\\\\n",
       "\\bottomrule\n",
       "\\end{tabular}\n",
       "\\begin{tabular}{lcccccc}\n",
       "                                                        & \\textbf{coef} & \\textbf{std err} & \\textbf{z} & \\textbf{P$> |$z$|$} & \\textbf{[0.025} & \\textbf{0.975]}  \\\\\n",
       "\\midrule\n",
       "\\textbf{Intercept}                                      &      -1.6527  &        0.175     &    -9.443  &         0.000        &       -1.996    &       -1.310     \\\\\n",
       "\\textbf{C(직장에서의복리후생제공여부, Treatment('제공하지않는다'))[T.제공한다]} &       0.9824  &        0.150     &     6.553  &         0.000        &        0.689    &        1.276     \\\\\n",
       "\\textbf{C(보험가입여부, Treatment('가입하지않음'))[T.가입했다]}         &      -0.0260  &        0.146     &    -0.179  &         0.858        &       -0.311    &        0.259     \\\\\n",
       "\\textbf{주당근로시간}                                         &      -0.0155  &        0.005     &    -2.847  &         0.004        &       -0.026    &       -0.005     \\\\\n",
       "\\bottomrule\n",
       "\\end{tabular}\n",
       "%\\caption{Logit Regression Results}\n",
       "\\end{center}"
      ],
      "text/plain": [
       "<class 'statsmodels.iolib.summary.Summary'>\n",
       "\"\"\"\n",
       "                           Logit Regression Results                           \n",
       "==============================================================================\n",
       "Dep. Variable:              LongWork2   No. Observations:                 2333\n",
       "Model:                          Logit   Df Residuals:                     2329\n",
       "Method:                           MLE   Df Model:                            3\n",
       "Date:                Thu, 31 Aug 2023   Pseudo R-squ.:                 0.02590\n",
       "Time:                        20:17:20   Log-Likelihood:                -843.60\n",
       "converged:                       True   LL-Null:                       -866.03\n",
       "Covariance Type:            nonrobust   LLR p-value:                 9.924e-10\n",
       "==================================================================================================================\n",
       "                                                     coef    std err          z      P>|z|      [0.025      0.975]\n",
       "------------------------------------------------------------------------------------------------------------------\n",
       "Intercept                                         -1.6527      0.175     -9.443      0.000      -1.996      -1.310\n",
       "C(직장에서의복리후생제공여부, Treatment('제공하지않는다'))[T.제공한다]     0.9824      0.150      6.553      0.000       0.689       1.276\n",
       "C(보험가입여부, Treatment('가입하지않음'))[T.가입했다]            -0.0260      0.146     -0.179      0.858      -0.311       0.259\n",
       "주당근로시간                                            -0.0155      0.005     -2.847      0.004      -0.026      -0.005\n",
       "==================================================================================================================\n",
       "\"\"\""
      ]
     },
     "execution_count": 12,
     "metadata": {},
     "output_type": "execute_result"
    }
   ],
   "source": [
    "model_2 = sm.Logit.from_formula('''LongWork2 ~ + C(직장에서의복리후생제공여부,Treatment('제공하지않는다'))\n",
    "    +  C(보험가입여부,Treatment('가입하지않음')) + 주당근로시간''', 수도권).fit()\n",
    "model_2.summary()"
   ]
  },
  {
   "cell_type": "code",
   "execution_count": 13,
   "metadata": {},
   "outputs": [
    {
     "name": "stdout",
     "output_type": "stream",
     "text": [
      "모델 AIC:1695.1962478327007\n",
      "\n",
      "\n"
     ]
    },
    {
     "data": {
      "text/html": [
       "<div>\n",
       "<style scoped>\n",
       "    .dataframe tbody tr th:only-of-type {\n",
       "        vertical-align: middle;\n",
       "    }\n",
       "\n",
       "    .dataframe tbody tr th {\n",
       "        vertical-align: top;\n",
       "    }\n",
       "\n",
       "    .dataframe thead th {\n",
       "        text-align: right;\n",
       "    }\n",
       "</style>\n",
       "<table border=\"1\" class=\"dataframe\">\n",
       "  <thead>\n",
       "    <tr style=\"text-align: right;\">\n",
       "      <th></th>\n",
       "      <th>OR</th>\n",
       "      <th>Lower CI</th>\n",
       "      <th>Upper CI</th>\n",
       "    </tr>\n",
       "  </thead>\n",
       "  <tbody>\n",
       "    <tr>\n",
       "      <th>Intercept</th>\n",
       "      <td>0.19153</td>\n",
       "      <td>0.13591</td>\n",
       "      <td>0.26990</td>\n",
       "    </tr>\n",
       "    <tr>\n",
       "      <th>C(직장에서의복리후생제공여부, Treatment('제공하지않는다'))[T.제공한다]</th>\n",
       "      <td>2.67082</td>\n",
       "      <td>1.99085</td>\n",
       "      <td>3.58303</td>\n",
       "    </tr>\n",
       "    <tr>\n",
       "      <th>C(보험가입여부, Treatment('가입하지않음'))[T.가입했다]</th>\n",
       "      <td>0.97432</td>\n",
       "      <td>0.73254</td>\n",
       "      <td>1.29591</td>\n",
       "    </tr>\n",
       "    <tr>\n",
       "      <th>주당근로시간</th>\n",
       "      <td>0.98458</td>\n",
       "      <td>0.97411</td>\n",
       "      <td>0.99517</td>\n",
       "    </tr>\n",
       "  </tbody>\n",
       "</table>\n",
       "</div>"
      ],
      "text/plain": [
       "                                                    OR  Lower CI  Upper CI\n",
       "Intercept                                      0.19153   0.13591   0.26990\n",
       "C(직장에서의복리후생제공여부, Treatment('제공하지않는다'))[T.제공한다] 2.67082   1.99085   3.58303\n",
       "C(보험가입여부, Treatment('가입하지않음'))[T.가입했다]         0.97432   0.73254   1.29591\n",
       "주당근로시간                                         0.98458   0.97411   0.99517"
      ]
     },
     "execution_count": 13,
     "metadata": {},
     "output_type": "execute_result"
    }
   ],
   "source": [
    "print(f'모델 AIC:{model_2.aic}')\n",
    "print('\\n')\n",
    "\n",
    "# 오즈비 계산(Confidence interval 포함)\n",
    "odds_ratios = pd.DataFrame(\n",
    "    {\n",
    "        \"OR\": model_2.params,\n",
    "        \"Lower CI\": model_2.conf_int()[0],\n",
    "        \"Upper CI\": model_2.conf_int()[1],\n",
    "    }\n",
    ")\n",
    "odds_ratios = np.exp(odds_ratios)\n",
    "odds_ratios"
   ]
  },
  {
   "cell_type": "code",
   "execution_count": 14,
   "metadata": {},
   "outputs": [
    {
     "name": "stdout",
     "output_type": "stream",
     "text": [
      "Optimization terminated successfully.\n",
      "         Current function value: 0.352672\n",
      "         Iterations 7\n"
     ]
    },
    {
     "data": {
      "text/html": [
       "<table class=\"simpletable\">\n",
       "<caption>Logit Regression Results</caption>\n",
       "<tr>\n",
       "  <th>Dep. Variable:</th>       <td>LongWork2</td>    <th>  No. Observations:  </th>  <td>  2333</td>  \n",
       "</tr>\n",
       "<tr>\n",
       "  <th>Model:</th>                 <td>Logit</td>      <th>  Df Residuals:      </th>  <td>  2327</td>  \n",
       "</tr>\n",
       "<tr>\n",
       "  <th>Method:</th>                 <td>MLE</td>       <th>  Df Model:          </th>  <td>     5</td>  \n",
       "</tr>\n",
       "<tr>\n",
       "  <th>Date:</th>            <td>Thu, 31 Aug 2023</td> <th>  Pseudo R-squ.:     </th>  <td>0.04993</td> \n",
       "</tr>\n",
       "<tr>\n",
       "  <th>Time:</th>                <td>20:19:11</td>     <th>  Log-Likelihood:    </th> <td> -822.78</td> \n",
       "</tr>\n",
       "<tr>\n",
       "  <th>converged:</th>             <td>True</td>       <th>  LL-Null:           </th> <td> -866.03</td> \n",
       "</tr>\n",
       "<tr>\n",
       "  <th>Covariance Type:</th>     <td>nonrobust</td>    <th>  LLR p-value:       </th> <td>3.676e-17</td>\n",
       "</tr>\n",
       "</table>\n",
       "<table class=\"simpletable\">\n",
       "<tr>\n",
       "                         <td></td>                           <th>coef</th>     <th>std err</th>      <th>z</th>      <th>P>|z|</th>  <th>[0.025</th>    <th>0.975]</th>  \n",
       "</tr>\n",
       "<tr>\n",
       "  <th>Intercept</th>                                      <td>   -2.3523</td> <td>    0.249</td> <td>   -9.466</td> <td> 0.000</td> <td>   -2.839</td> <td>   -1.865</td>\n",
       "</tr>\n",
       "<tr>\n",
       "  <th>C(직장에서의복리후생제공여부, Treatment('제공하지않는다'))[T.제공한다]</th> <td>    0.8454</td> <td>    0.152</td> <td>    5.551</td> <td> 0.000</td> <td>    0.547</td> <td>    1.144</td>\n",
       "</tr>\n",
       "<tr>\n",
       "  <th>C(보험가입여부, Treatment('가입하지않음'))[T.가입했다]</th>         <td>    0.0320</td> <td>    0.145</td> <td>    0.220</td> <td> 0.826</td> <td>   -0.253</td> <td>    0.317</td>\n",
       "</tr>\n",
       "<tr>\n",
       "  <th>C(직장만족도, Treatment('그렇지않다'))[T.그렇다]</th>            <td>    0.9633</td> <td>    0.186</td> <td>    5.192</td> <td> 0.000</td> <td>    0.600</td> <td>    1.327</td>\n",
       "</tr>\n",
       "<tr>\n",
       "  <th>C(직장만족도, Treatment('그렇지않다'))[T.보통이다]</th>           <td>    0.1975</td> <td>    0.200</td> <td>    0.988</td> <td> 0.323</td> <td>   -0.194</td> <td>    0.589</td>\n",
       "</tr>\n",
       "<tr>\n",
       "  <th>주당근로시간</th>                                         <td>   -0.0099</td> <td>    0.006</td> <td>   -1.796</td> <td> 0.073</td> <td>   -0.021</td> <td>    0.001</td>\n",
       "</tr>\n",
       "</table>"
      ],
      "text/latex": [
       "\\begin{center}\n",
       "\\begin{tabular}{lclc}\n",
       "\\toprule\n",
       "\\textbf{Dep. Variable:}                                 &    LongWork2     & \\textbf{  No. Observations:  } &     2333    \\\\\n",
       "\\textbf{Model:}                                         &      Logit       & \\textbf{  Df Residuals:      } &     2327    \\\\\n",
       "\\textbf{Method:}                                        &       MLE        & \\textbf{  Df Model:          } &        5    \\\\\n",
       "\\textbf{Date:}                                          & Thu, 31 Aug 2023 & \\textbf{  Pseudo R-squ.:     } &  0.04993    \\\\\n",
       "\\textbf{Time:}                                          &     20:19:11     & \\textbf{  Log-Likelihood:    } &   -822.78   \\\\\n",
       "\\textbf{converged:}                                     &       True       & \\textbf{  LL-Null:           } &   -866.03   \\\\\n",
       "\\textbf{Covariance Type:}                               &    nonrobust     & \\textbf{  LLR p-value:       } & 3.676e-17   \\\\\n",
       "\\bottomrule\n",
       "\\end{tabular}\n",
       "\\begin{tabular}{lcccccc}\n",
       "                                                        & \\textbf{coef} & \\textbf{std err} & \\textbf{z} & \\textbf{P$> |$z$|$} & \\textbf{[0.025} & \\textbf{0.975]}  \\\\\n",
       "\\midrule\n",
       "\\textbf{Intercept}                                      &      -2.3523  &        0.249     &    -9.466  &         0.000        &       -2.839    &       -1.865     \\\\\n",
       "\\textbf{C(직장에서의복리후생제공여부, Treatment('제공하지않는다'))[T.제공한다]} &       0.8454  &        0.152     &     5.551  &         0.000        &        0.547    &        1.144     \\\\\n",
       "\\textbf{C(보험가입여부, Treatment('가입하지않음'))[T.가입했다]}         &       0.0320  &        0.145     &     0.220  &         0.826        &       -0.253    &        0.317     \\\\\n",
       "\\textbf{C(직장만족도, Treatment('그렇지않다'))[T.그렇다]}            &       0.9633  &        0.186     &     5.192  &         0.000        &        0.600    &        1.327     \\\\\n",
       "\\textbf{C(직장만족도, Treatment('그렇지않다'))[T.보통이다]}           &       0.1975  &        0.200     &     0.988  &         0.323        &       -0.194    &        0.589     \\\\\n",
       "\\textbf{주당근로시간}                                         &      -0.0099  &        0.006     &    -1.796  &         0.073        &       -0.021    &        0.001     \\\\\n",
       "\\bottomrule\n",
       "\\end{tabular}\n",
       "%\\caption{Logit Regression Results}\n",
       "\\end{center}"
      ],
      "text/plain": [
       "<class 'statsmodels.iolib.summary.Summary'>\n",
       "\"\"\"\n",
       "                           Logit Regression Results                           \n",
       "==============================================================================\n",
       "Dep. Variable:              LongWork2   No. Observations:                 2333\n",
       "Model:                          Logit   Df Residuals:                     2327\n",
       "Method:                           MLE   Df Model:                            5\n",
       "Date:                Thu, 31 Aug 2023   Pseudo R-squ.:                 0.04993\n",
       "Time:                        20:19:11   Log-Likelihood:                -822.78\n",
       "converged:                       True   LL-Null:                       -866.03\n",
       "Covariance Type:            nonrobust   LLR p-value:                 3.676e-17\n",
       "==================================================================================================================\n",
       "                                                     coef    std err          z      P>|z|      [0.025      0.975]\n",
       "------------------------------------------------------------------------------------------------------------------\n",
       "Intercept                                         -2.3523      0.249     -9.466      0.000      -2.839      -1.865\n",
       "C(직장에서의복리후생제공여부, Treatment('제공하지않는다'))[T.제공한다]     0.8454      0.152      5.551      0.000       0.547       1.144\n",
       "C(보험가입여부, Treatment('가입하지않음'))[T.가입했다]             0.0320      0.145      0.220      0.826      -0.253       0.317\n",
       "C(직장만족도, Treatment('그렇지않다'))[T.그렇다]                0.9633      0.186      5.192      0.000       0.600       1.327\n",
       "C(직장만족도, Treatment('그렇지않다'))[T.보통이다]               0.1975      0.200      0.988      0.323      -0.194       0.589\n",
       "주당근로시간                                            -0.0099      0.006     -1.796      0.073      -0.021       0.001\n",
       "==================================================================================================================\n",
       "\"\"\""
      ]
     },
     "execution_count": 14,
     "metadata": {},
     "output_type": "execute_result"
    }
   ],
   "source": [
    "model_3 = sm.Logit.from_formula('''LongWork2 ~ \n",
    "    + C(직장에서의복리후생제공여부,Treatment('제공하지않는다'))\n",
    "    + C(보험가입여부,Treatment('가입하지않음'))\n",
    "    + 주당근로시간 + C(직장만족도,Treatment('그렇지않다'))''', 수도권).fit()\n",
    "model_3.summary()"
   ]
  },
  {
   "cell_type": "code",
   "execution_count": 15,
   "metadata": {},
   "outputs": [
    {
     "name": "stdout",
     "output_type": "stream",
     "text": [
      "모델 AIC:1657.568845387179\n",
      "\n",
      "\n"
     ]
    },
    {
     "data": {
      "text/html": [
       "<div>\n",
       "<style scoped>\n",
       "    .dataframe tbody tr th:only-of-type {\n",
       "        vertical-align: middle;\n",
       "    }\n",
       "\n",
       "    .dataframe tbody tr th {\n",
       "        vertical-align: top;\n",
       "    }\n",
       "\n",
       "    .dataframe thead th {\n",
       "        text-align: right;\n",
       "    }\n",
       "</style>\n",
       "<table border=\"1\" class=\"dataframe\">\n",
       "  <thead>\n",
       "    <tr style=\"text-align: right;\">\n",
       "      <th></th>\n",
       "      <th>OR</th>\n",
       "      <th>Lower CI</th>\n",
       "      <th>Upper CI</th>\n",
       "    </tr>\n",
       "  </thead>\n",
       "  <tbody>\n",
       "    <tr>\n",
       "      <th>Intercept</th>\n",
       "      <td>0.09515</td>\n",
       "      <td>0.05846</td>\n",
       "      <td>0.15485</td>\n",
       "    </tr>\n",
       "    <tr>\n",
       "      <th>C(직장에서의복리후생제공여부, Treatment('제공하지않는다'))[T.제공한다]</th>\n",
       "      <td>2.32893</td>\n",
       "      <td>1.72787</td>\n",
       "      <td>3.13908</td>\n",
       "    </tr>\n",
       "    <tr>\n",
       "      <th>C(보험가입여부, Treatment('가입하지않음'))[T.가입했다]</th>\n",
       "      <td>1.03249</td>\n",
       "      <td>0.77633</td>\n",
       "      <td>1.37318</td>\n",
       "    </tr>\n",
       "    <tr>\n",
       "      <th>C(직장만족도, Treatment('그렇지않다'))[T.그렇다]</th>\n",
       "      <td>2.62036</td>\n",
       "      <td>1.82150</td>\n",
       "      <td>3.76956</td>\n",
       "    </tr>\n",
       "    <tr>\n",
       "      <th>C(직장만족도, Treatment('그렇지않다'))[T.보통이다]</th>\n",
       "      <td>1.21832</td>\n",
       "      <td>0.82334</td>\n",
       "      <td>1.80279</td>\n",
       "    </tr>\n",
       "    <tr>\n",
       "      <th>주당근로시간</th>\n",
       "      <td>0.99011</td>\n",
       "      <td>0.97942</td>\n",
       "      <td>1.00091</td>\n",
       "    </tr>\n",
       "  </tbody>\n",
       "</table>\n",
       "</div>"
      ],
      "text/plain": [
       "                                                    OR  Lower CI  Upper CI\n",
       "Intercept                                      0.09515   0.05846   0.15485\n",
       "C(직장에서의복리후생제공여부, Treatment('제공하지않는다'))[T.제공한다] 2.32893   1.72787   3.13908\n",
       "C(보험가입여부, Treatment('가입하지않음'))[T.가입했다]         1.03249   0.77633   1.37318\n",
       "C(직장만족도, Treatment('그렇지않다'))[T.그렇다]            2.62036   1.82150   3.76956\n",
       "C(직장만족도, Treatment('그렇지않다'))[T.보통이다]           1.21832   0.82334   1.80279\n",
       "주당근로시간                                         0.99011   0.97942   1.00091"
      ]
     },
     "execution_count": 15,
     "metadata": {},
     "output_type": "execute_result"
    }
   ],
   "source": [
    "print(f'모델 AIC:{model_3.aic}')\n",
    "print('\\n')\n",
    "\n",
    "# 오즈비 계산(Confidence interval 포함)\n",
    "odds_ratios_3 = pd.DataFrame(\n",
    "    {\n",
    "        \"OR\": model_3.params,\n",
    "        \"Lower CI\": model_3.conf_int()[0],\n",
    "        \"Upper CI\": model_3.conf_int()[1],\n",
    "    }\n",
    ")\n",
    "odds_ratios_3 = np.exp(odds_ratios_3)\n",
    "odds_ratios_3"
   ]
  },
  {
   "cell_type": "code",
   "execution_count": 16,
   "metadata": {},
   "outputs": [],
   "source": [
    "odds_ratios_3.index = ['절편', '직장에서의복리후생제공여부, REF:제공하지않는다|제공한다',\n",
    "       '보험가입여부, REF:가입하지않음|가입했다',\n",
    "       '직장만족도, REF:그렇지않다|그렇다',\n",
    "       '직장만족도, REF:그렇지않다:보통이다', '주당근로시간']"
   ]
  },
  {
   "cell_type": "code",
   "execution_count": 16,
   "metadata": {},
   "outputs": [
    {
     "data": {
      "image/png": "[encoded data removed]",
      "text/plain": [
       "<Figure size 1224x936 with 1 Axes>"
      ]
     },
     "metadata": {
      "needs_background": "light"
     },
     "output_type": "display_data"
    }
   ],
   "source": [
    "# 오즈비 순서대로 \n",
    "\n",
    "# Define the data\n",
    "data = [(var, odds_ratios_3.loc[var, \"OR\"], odds_ratios_3.loc[var, \"Lower CI\"], odds_ratios_3.loc[var, \"Upper CI\"]) for var in odds_ratios_3.index]\n",
    "\n",
    "# Sort the data by the odds ratio\n",
    "data = sorted(data, key=lambda x: x[1], reverse=True)\n",
    "\n",
    "# Set the figure size\n",
    "plt.figure(figsize=(17, 13))\n",
    "\n",
    "# Plot the data\n",
    "plt.errorbar([x[1] for x in data], range(len(data)), xerr=[x[1] - x[2] for x in data], fmt='s', color='black', \n",
    "             markersize=13, markerfacecolor='blue')\n",
    "\n",
    "# Add the vertical line\n",
    "plt.axvline(x=1, color='red', linestyle='--')\n",
    "\n",
    "# Add the labels and title\n",
    "plt.yticks(range(len(data)), [x[0] for x in data], fontsize=17)\n",
    "plt.xlabel('Odds Ratio', fontsize=15)\n",
    "plt.ylabel('Variable', fontsize=15)\n",
    "plt.title('Forest Plot of Odds Ratios(수도권)', fontsize=17)\n",
    "\n",
    "# Show the plot\n",
    "plt.show()"
   ]
  },
  {
   "cell_type": "markdown",
   "metadata": {},
   "source": [
    "##### 단변-------------"
   ]
  },
  {
   "cell_type": "code",
   "execution_count": null,
   "metadata": {},
   "outputs": [
    {
     "name": "stdout",
     "output_type": "stream",
     "text": [
      "Optimization terminated successfully.\n",
      "         Current function value: 0.441252\n",
      "         Iterations 6\n",
      "==================================Model Summary=========================================\n",
      "                           Logit Regression Results                           \n",
      "==============================================================================\n",
      "Dep. Variable:              LongWork2   No. Observations:                  284\n",
      "Model:                          Logit   Df Residuals:                      282\n",
      "Method:                           MLE   Df Model:                            1\n",
      "Date:                Thu, 31 Aug 2023   Pseudo R-squ.:                 0.01653\n",
      "Time:                        20:08:38   Log-Likelihood:                -125.32\n",
      "converged:                       True   LL-Null:                       -127.42\n",
      "Covariance Type:            nonrobust   LLR p-value:                   0.04014\n",
      "==================================================================================================================\n",
      "                                                     coef    std err          z      P>|z|      [0.025      0.975]\n",
      "------------------------------------------------------------------------------------------------------------------\n",
      "Intercept                                         -1.7725      0.183     -9.695      0.000      -2.131      -1.414\n",
      "C(직장에서의복리후생제공여부, Treatment('제공하지않는다'))[T.제공한다]     0.8234      0.386      2.133      0.033       0.067       1.580\n",
      "==================================================================================================================\n",
      "==================================Odds Ratio=========================================\n"
     ]
    },
    {
     "data": {
      "text/html": [
       "<div>\n",
       "<style scoped>\n",
       "    .dataframe tbody tr th:only-of-type {\n",
       "        vertical-align: middle;\n",
       "    }\n",
       "\n",
       "    .dataframe tbody tr th {\n",
       "        vertical-align: top;\n",
       "    }\n",
       "\n",
       "    .dataframe thead th {\n",
       "        text-align: right;\n",
       "    }\n",
       "</style>\n",
       "<table border=\"1\" class=\"dataframe\">\n",
       "  <thead>\n",
       "    <tr style=\"text-align: right;\">\n",
       "      <th></th>\n",
       "      <th>OR</th>\n",
       "      <th>Lower CI</th>\n",
       "      <th>Upper CI</th>\n",
       "    </tr>\n",
       "  </thead>\n",
       "  <tbody>\n",
       "    <tr>\n",
       "      <th>Intercept</th>\n",
       "      <td>0.16990</td>\n",
       "      <td>0.11873</td>\n",
       "      <td>0.24312</td>\n",
       "    </tr>\n",
       "    <tr>\n",
       "      <th>C(직장에서의복리후생제공여부, Treatment('제공하지않는다'))[T.제공한다]</th>\n",
       "      <td>2.27834</td>\n",
       "      <td>1.06913</td>\n",
       "      <td>4.85519</td>\n",
       "    </tr>\n",
       "  </tbody>\n",
       "</table>\n",
       "</div>"
      ],
      "text/plain": [
       "                                                    OR  Lower CI  Upper CI\n",
       "Intercept                                      0.16990   0.11873   0.24312\n",
       "C(직장에서의복리후생제공여부, Treatment('제공하지않는다'))[T.제공한다] 2.27834   1.06913   4.85519"
      ]
     },
     "metadata": {},
     "output_type": "display_data"
    }
   ],
   "source": [
    "model_3 = sm.Logit.from_formula('''LongWork2 ~ \n",
    "    + C(직장에서의복리후생제공여부,Treatment('제공하지않는다'))\n",
    "    ''', 수도권).fit()\n",
    "print('==================================Model Summary=========================================')\n",
    "print(model_3.summary())\n",
    "\n",
    "print('==================================Odds Ratio=========================================')\n",
    "# 오즈비 계산(Confidence interval 포함)\n",
    "odds_ratios_3 = pd.DataFrame(\n",
    "    {\n",
    "        \"OR\": model_3.params,\n",
    "        \"Lower CI\": model_3.conf_int()[0],\n",
    "        \"Upper CI\": model_3.conf_int()[1],\n",
    "    }\n",
    ")\n",
    "odds_ratios_3 = np.exp(odds_ratios_3)\n",
    "odds_ratios_3"
   ]
  },
  {
   "cell_type": "code",
   "execution_count": 18,
   "metadata": {},
   "outputs": [
    {
     "name": "stdout",
     "output_type": "stream",
     "text": [
      "Optimization terminated successfully.\n",
      "         Current function value: 0.371205\n",
      "         Iterations 6\n",
      "==================================Model Summary=========================================\n",
      "                           Logit Regression Results                           \n",
      "==============================================================================\n",
      "Dep. Variable:              LongWork2   No. Observations:                 2333\n",
      "Model:                          Logit   Df Residuals:                     2331\n",
      "Method:                           MLE   Df Model:                            1\n",
      "Date:                Thu, 31 Aug 2023   Pseudo R-squ.:               4.940e-06\n",
      "Time:                        20:32:17   Log-Likelihood:                -866.02\n",
      "converged:                       True   LL-Null:                       -866.03\n",
      "Covariance Type:            nonrobust   LLR p-value:                    0.9263\n",
      "==========================================================================================================\n",
      "                                             coef    std err          z      P>|z|      [0.025      0.975]\n",
      "----------------------------------------------------------------------------------------------------------\n",
      "Intercept                                 -1.9788      0.096    -20.653      0.000      -2.167      -1.791\n",
      "C(보험가입여부, Treatment('가입하지않음'))[T.가입했다]     0.0118      0.128      0.092      0.926      -0.238       0.262\n",
      "==========================================================================================================\n",
      "==================================Odds Ratio=========================================\n"
     ]
    },
    {
     "data": {
      "text/html": [
       "<div>\n",
       "<style scoped>\n",
       "    .dataframe tbody tr th:only-of-type {\n",
       "        vertical-align: middle;\n",
       "    }\n",
       "\n",
       "    .dataframe tbody tr th {\n",
       "        vertical-align: top;\n",
       "    }\n",
       "\n",
       "    .dataframe thead th {\n",
       "        text-align: right;\n",
       "    }\n",
       "</style>\n",
       "<table border=\"1\" class=\"dataframe\">\n",
       "  <thead>\n",
       "    <tr style=\"text-align: right;\">\n",
       "      <th></th>\n",
       "      <th>OR</th>\n",
       "      <th>Lower CI</th>\n",
       "      <th>Upper CI</th>\n",
       "    </tr>\n",
       "  </thead>\n",
       "  <tbody>\n",
       "    <tr>\n",
       "      <th>Intercept</th>\n",
       "      <td>0.13824</td>\n",
       "      <td>0.11457</td>\n",
       "      <td>0.16679</td>\n",
       "    </tr>\n",
       "    <tr>\n",
       "      <th>C(보험가입여부, Treatment('가입하지않음'))[T.가입했다]</th>\n",
       "      <td>1.01186</td>\n",
       "      <td>0.78810</td>\n",
       "      <td>1.29915</td>\n",
       "    </tr>\n",
       "  </tbody>\n",
       "</table>\n",
       "</div>"
      ],
      "text/plain": [
       "                                            OR  Lower CI  Upper CI\n",
       "Intercept                              0.13824   0.11457   0.16679\n",
       "C(보험가입여부, Treatment('가입하지않음'))[T.가입했다] 1.01186   0.78810   1.29915"
      ]
     },
     "execution_count": 18,
     "metadata": {},
     "output_type": "execute_result"
    }
   ],
   "source": [
    "model_3 = sm.Logit.from_formula('''LongWork2 ~ \n",
    "    C(보험가입여부,Treatment('가입하지않음'))\n",
    "    ''', 수도권).fit()\n",
    "print('==================================Model Summary=========================================')\n",
    "print(model_3.summary())\n",
    "\n",
    "print('==================================Odds Ratio=========================================')\n",
    "# 오즈비 계산(Confidence interval 포함)\n",
    "odds_ratios_3 = pd.DataFrame(\n",
    "    {\n",
    "        \"OR\": model_3.params,\n",
    "        \"Lower CI\": model_3.conf_int()[0],\n",
    "        \"Upper CI\": model_3.conf_int()[1],\n",
    "    }\n",
    ")\n",
    "odds_ratios_3 = np.exp(odds_ratios_3)\n",
    "odds_ratios_3"
   ]
  },
  {
   "cell_type": "code",
   "execution_count": 19,
   "metadata": {},
   "outputs": [
    {
     "name": "stdout",
     "output_type": "stream",
     "text": [
      "Optimization terminated successfully.\n",
      "         Current function value: 0.370399\n",
      "         Iterations 6\n",
      "==================================Model Summary=========================================\n",
      "                           Logit Regression Results                           \n",
      "==============================================================================\n",
      "Dep. Variable:              LongWork2   No. Observations:                 2333\n",
      "Model:                          Logit   Df Residuals:                     2331\n",
      "Method:                           MLE   Df Model:                            1\n",
      "Date:                Thu, 31 Aug 2023   Pseudo R-squ.:                0.002176\n",
      "Time:                        20:32:38   Log-Likelihood:                -864.14\n",
      "converged:                       True   LL-Null:                       -866.03\n",
      "Covariance Type:            nonrobust   LLR p-value:                   0.05220\n",
      "==============================================================================\n",
      "                 coef    std err          z      P>|z|      [0.025      0.975]\n",
      "------------------------------------------------------------------------------\n",
      "Intercept     -1.6529      0.172     -9.607      0.000      -1.990      -1.316\n",
      "주당근로시간        -0.0094      0.005     -1.960      0.050      -0.019   -1.99e-06\n",
      "==============================================================================\n",
      "==================================Odds Ratio=========================================\n"
     ]
    },
    {
     "data": {
      "text/html": [
       "<div>\n",
       "<style scoped>\n",
       "    .dataframe tbody tr th:only-of-type {\n",
       "        vertical-align: middle;\n",
       "    }\n",
       "\n",
       "    .dataframe tbody tr th {\n",
       "        vertical-align: top;\n",
       "    }\n",
       "\n",
       "    .dataframe thead th {\n",
       "        text-align: right;\n",
       "    }\n",
       "</style>\n",
       "<table border=\"1\" class=\"dataframe\">\n",
       "  <thead>\n",
       "    <tr style=\"text-align: right;\">\n",
       "      <th></th>\n",
       "      <th>OR</th>\n",
       "      <th>Lower CI</th>\n",
       "      <th>Upper CI</th>\n",
       "    </tr>\n",
       "  </thead>\n",
       "  <tbody>\n",
       "    <tr>\n",
       "      <th>Intercept</th>\n",
       "      <td>0.19149</td>\n",
       "      <td>0.13668</td>\n",
       "      <td>0.26829</td>\n",
       "    </tr>\n",
       "    <tr>\n",
       "      <th>주당근로시간</th>\n",
       "      <td>0.99067</td>\n",
       "      <td>0.98143</td>\n",
       "      <td>1.00000</td>\n",
       "    </tr>\n",
       "  </tbody>\n",
       "</table>\n",
       "</div>"
      ],
      "text/plain": [
       "               OR  Lower CI  Upper CI\n",
       "Intercept 0.19149   0.13668   0.26829\n",
       "주당근로시간    0.99067   0.98143   1.00000"
      ]
     },
     "execution_count": 19,
     "metadata": {},
     "output_type": "execute_result"
    }
   ],
   "source": [
    "model_3 = sm.Logit.from_formula('''LongWork2 ~ \n",
    "   주당근로시간''', 수도권).fit()\n",
    "print('==================================Model Summary=========================================')\n",
    "print(model_3.summary())\n",
    "\n",
    "print('==================================Odds Ratio=========================================')\n",
    "# 오즈비 계산(Confidence interval 포함)\n",
    "odds_ratios_3 = pd.DataFrame(\n",
    "    {\n",
    "        \"OR\": model_3.params,\n",
    "        \"Lower CI\": model_3.conf_int()[0],\n",
    "        \"Upper CI\": model_3.conf_int()[1],\n",
    "    }\n",
    ")\n",
    "odds_ratios_3 = np.exp(odds_ratios_3)\n",
    "odds_ratios_3"
   ]
  },
  {
   "cell_type": "code",
   "execution_count": 20,
   "metadata": {},
   "outputs": [
    {
     "name": "stdout",
     "output_type": "stream",
     "text": [
      "Optimization terminated successfully.\n",
      "         Current function value: 0.359317\n",
      "         Iterations 6\n",
      "==================================Model Summary=========================================\n",
      "                           Logit Regression Results                           \n",
      "==============================================================================\n",
      "Dep. Variable:              LongWork2   No. Observations:                 2333\n",
      "Model:                          Logit   Df Residuals:                     2330\n",
      "Method:                           MLE   Df Model:                            2\n",
      "Date:                Thu, 31 Aug 2023   Pseudo R-squ.:                 0.03203\n",
      "Time:                        20:32:58   Log-Likelihood:                -838.29\n",
      "converged:                       True   LL-Null:                       -866.03\n",
      "Covariance Type:            nonrobust   LLR p-value:                 8.976e-13\n",
      "========================================================================================================\n",
      "                                           coef    std err          z      P>|z|      [0.025      0.975]\n",
      "--------------------------------------------------------------------------------------------------------\n",
      "Intercept                               -2.5523      0.158    -16.121      0.000      -2.863      -2.242\n",
      "C(직장만족도, Treatment('그렇지않다'))[T.그렇다]      1.0869      0.180      6.023      0.000       0.733       1.441\n",
      "C(직장만족도, Treatment('그렇지않다'))[T.보통이다]     0.2421      0.198      1.223      0.221      -0.146       0.630\n",
      "========================================================================================================\n",
      "==================================Odds Ratio=========================================\n"
     ]
    },
    {
     "data": {
      "text/html": [
       "<div>\n",
       "<style scoped>\n",
       "    .dataframe tbody tr th:only-of-type {\n",
       "        vertical-align: middle;\n",
       "    }\n",
       "\n",
       "    .dataframe tbody tr th {\n",
       "        vertical-align: top;\n",
       "    }\n",
       "\n",
       "    .dataframe thead th {\n",
       "        text-align: right;\n",
       "    }\n",
       "</style>\n",
       "<table border=\"1\" class=\"dataframe\">\n",
       "  <thead>\n",
       "    <tr style=\"text-align: right;\">\n",
       "      <th></th>\n",
       "      <th>OR</th>\n",
       "      <th>Lower CI</th>\n",
       "      <th>Upper CI</th>\n",
       "    </tr>\n",
       "  </thead>\n",
       "  <tbody>\n",
       "    <tr>\n",
       "      <th>Intercept</th>\n",
       "      <td>0.07790</td>\n",
       "      <td>0.05712</td>\n",
       "      <td>0.10624</td>\n",
       "    </tr>\n",
       "    <tr>\n",
       "      <th>C(직장만족도, Treatment('그렇지않다'))[T.그렇다]</th>\n",
       "      <td>2.96521</td>\n",
       "      <td>2.08176</td>\n",
       "      <td>4.22359</td>\n",
       "    </tr>\n",
       "    <tr>\n",
       "      <th>C(직장만족도, Treatment('그렇지않다'))[T.보통이다]</th>\n",
       "      <td>1.27392</td>\n",
       "      <td>0.86437</td>\n",
       "      <td>1.87753</td>\n",
       "    </tr>\n",
       "  </tbody>\n",
       "</table>\n",
       "</div>"
      ],
      "text/plain": [
       "                                          OR  Lower CI  Upper CI\n",
       "Intercept                            0.07790   0.05712   0.10624\n",
       "C(직장만족도, Treatment('그렇지않다'))[T.그렇다]  2.96521   2.08176   4.22359\n",
       "C(직장만족도, Treatment('그렇지않다'))[T.보통이다] 1.27392   0.86437   1.87753"
      ]
     },
     "execution_count": 20,
     "metadata": {},
     "output_type": "execute_result"
    }
   ],
   "source": [
    "model_3 = sm.Logit.from_formula('''LongWork2 ~ \n",
    "    C(직장만족도,Treatment('그렇지않다'))''', 수도권).fit()\n",
    "print('==================================Model Summary=========================================')\n",
    "print(model_3.summary())\n",
    "\n",
    "print('==================================Odds Ratio=========================================')\n",
    "# 오즈비 계산(Confidence interval 포함)\n",
    "odds_ratios_3 = pd.DataFrame(\n",
    "    {\n",
    "        \"OR\": model_3.params,\n",
    "        \"Lower CI\": model_3.conf_int()[0],\n",
    "        \"Upper CI\": model_3.conf_int()[1],\n",
    "    }\n",
    ")\n",
    "odds_ratios_3 = np.exp(odds_ratios_3)\n",
    "odds_ratios_3"
   ]
  }
 ],
 "metadata": {
  "kernelspec": {
   "display_name": "'reg'",
   "language": "python",
   "name": "python3"
  },
  "language_info": {
   "codemirror_mode": {
    "name": "ipython",
    "version": 3
   },
   "file_extension": ".py",
   "mimetype": "text/x-python",
   "name": "python",
   "nbconvert_exporter": "python",
   "pygments_lexer": "ipython3",
   "version": "3.10.9"
  },
  "orig_nbformat": 4
 },
 "nbformat": 4,
 "nbformat_minor": 2
}
