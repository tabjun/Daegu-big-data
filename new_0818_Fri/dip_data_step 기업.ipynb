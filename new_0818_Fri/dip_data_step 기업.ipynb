{
 "cells": [
  {
   "cell_type": "markdown",
   "metadata": {},
   "source": [
    "#### packages"
   ]
  },
  {
   "cell_type": "code",
   "execution_count": 1,
   "metadata": {},
   "outputs": [],
   "source": [
    "import pandas as pd\n",
    "import numpy as np\n",
    "import statsmodels.api as sm\n",
    "import sklearn\n",
    "import scipy"
   ]
  },
  {
   "cell_type": "markdown",
   "metadata": {},
   "source": [
    "##### Data"
   ]
  },
  {
   "cell_type": "code",
   "execution_count": 41,
   "metadata": {},
   "outputs": [
    {
     "data": {
      "text/plain": [
       "d147               488\n",
       "d148               488\n",
       "f073                 0\n",
       "f074               234\n",
       "h001                 0\n",
       "                  ... \n",
       "commuting_time    4525\n",
       "industryG           65\n",
       "sati                 0\n",
       "satiG                0\n",
       "insurance            0\n",
       "Length: 66, dtype: int64"
      ]
     },
     "execution_count": 41,
     "metadata": {},
     "output_type": "execute_result"
    }
   ],
   "source": [
    "df = pd.read_csv('data_1.csv', encoding='cp949')\n",
    "df.isnull().sum()[50:]"
   ]
  },
  {
   "cell_type": "code",
   "execution_count": 42,
   "metadata": {},
   "outputs": [],
   "source": [
    "df_copy = df.copy()"
   ]
  },
  {
   "cell_type": "code",
   "execution_count": 43,
   "metadata": {},
   "outputs": [],
   "source": [
    "df_copy['주당근로일'] = df_copy['work_day']\n",
    "df_copy['주당근로시간'] = df_copy['work_time']"
   ]
  },
  {
   "cell_type": "code",
   "execution_count": 44,
   "metadata": {},
   "outputs": [
    {
     "name": "stdout",
     "output_type": "stream",
     "text": [
      "변경 전 work_timeB unique 및 counts\n",
      "work_timeB\n",
      "0    4108\n",
      "1     909\n",
      "Name: count, dtype: int64\n",
      "\n",
      "\n",
      "변경 후 work_timeB unique 및 counts\n",
      "주당근로시간_binary\n",
      "40시간이하    4108\n",
      "40시간초과     909\n",
      "Name: count, dtype: int64\n"
     ]
    }
   ],
   "source": [
    "# 주당근로시간(binary) 한글 변경\n",
    "df_copy['주당근로시간_binary'] = df_copy['work_timeB'].apply(lambda x: '40시간이하' if x == 0 else '40시간초과' if x==1 else x)\n",
    "print('변경 전 work_timeB unique 및 counts')\n",
    "print(df_copy.work_timeB.value_counts().sort_index())\n",
    "print('\\n')\n",
    "print('변경 후 work_timeB unique 및 counts')\n",
    "print(df_copy.주당근로시간_binary.value_counts())"
   ]
  },
  {
   "cell_type": "code",
   "execution_count": 45,
   "metadata": {},
   "outputs": [
    {
     "name": "stdout",
     "output_type": "stream",
     "text": [
      "변경 전 supply unique 및 counts\n",
      "supply\n",
      "0    4120\n",
      "1     897\n",
      "Name: count, dtype: int64\n",
      "\n",
      "\n",
      "변경 후 supply unique 및 counts\n",
      "직장에서의복리후생제공여부\n",
      "제공하지않는다    4120\n",
      "제공한다        897\n",
      "Name: count, dtype: int64\n"
     ]
    }
   ],
   "source": [
    "# 직장에서의복리후생제공여부 한글 변경\n",
    "df_copy['직장에서의복리후생제공여부'] = df_copy['supply'].apply(lambda x: '제공하지않는다' if x == 0 else '제공한다' if x==1 else x)\n",
    "print('변경 전 supply unique 및 counts')\n",
    "print(df_copy.supply.value_counts().sort_index())\n",
    "print('\\n')\n",
    "print('변경 후 supply unique 및 counts')\n",
    "print(df_copy.직장에서의복리후생제공여부.value_counts())"
   ]
  },
  {
   "cell_type": "code",
   "execution_count": 46,
   "metadata": {},
   "outputs": [
    {
     "name": "stdout",
     "output_type": "stream",
     "text": [
      "변경 전 insurance unique 및 counts\n",
      "insurance\n",
      "0    2307\n",
      "1    2710\n",
      "Name: count, dtype: int64\n",
      "\n",
      "\n",
      "변경 후 보험가입여부 unique 및 counts\n",
      "보험가입여부\n",
      "가입했다      2710\n",
      "가입하지않음    2307\n",
      "Name: count, dtype: int64\n"
     ]
    }
   ],
   "source": [
    "# 보험가입여부 한글 변경\n",
    "df_copy['보험가입여부'] = df_copy['insurance'].apply(lambda x: '가입하지않음' if x == 0 else '가입했다' if x==1 else x)\n",
    "print('변경 전 insurance unique 및 counts')\n",
    "print(df_copy.insurance.value_counts().sort_index())\n",
    "print('\\n')\n",
    "print('변경 후 보험가입여부 unique 및 counts')\n",
    "print(df_copy.보험가입여부.value_counts())"
   ]
  },
  {
   "cell_type": "code",
   "execution_count": 47,
   "metadata": {},
   "outputs": [
    {
     "name": "stdout",
     "output_type": "stream",
     "text": [
      "변경 전 company_satiG unique 및 counts\n",
      "company_satiG\n",
      "1    1139\n",
      "2    1898\n",
      "3    1980\n",
      "Name: count, dtype: int64\n",
      "\n",
      "\n",
      "변경 후 직장만족도 unique 및 counts\n",
      "직장만족도\n",
      "그렇다      1980\n",
      "보통이다     1898\n",
      "그렇지않다    1139\n",
      "Name: count, dtype: int64\n"
     ]
    }
   ],
   "source": [
    "# 직장만족도 한글 변경\n",
    "df_copy['직장만족도'] = df_copy['company_satiG'].apply(lambda x: '그렇지않다' if x == 1 else '보통이다' if x==2 else '그렇다' if x==3 else x)\n",
    "print('변경 전 company_satiG unique 및 counts')\n",
    "print(df_copy.company_satiG.value_counts().sort_index())\n",
    "print('\\n')\n",
    "print('변경 후 직장만족도 unique 및 counts')\n",
    "print(df_copy.직장만족도.value_counts())"
   ]
  },
  {
   "cell_type": "code",
   "execution_count": 30,
   "metadata": {},
   "outputs": [],
   "source": [
    "df_copy.to_csv('re_0820.csv', index=False, encoding='cp949')"
   ]
  }
 ],
 "metadata": {
  "kernelspec": {
   "display_name": "'reg'",
   "language": "python",
   "name": "python3"
  },
  "language_info": {
   "codemirror_mode": {
    "name": "ipython",
    "version": 3
   },
   "file_extension": ".py",
   "mimetype": "text/x-python",
   "name": "python",
   "nbconvert_exporter": "python",
   "pygments_lexer": "ipython3",
   "version": "3.10.9"
  },
  "orig_nbformat": 4
 },
 "nbformat": 4,
 "nbformat_minor": 2
}
